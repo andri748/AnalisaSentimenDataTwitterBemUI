{
  "nbformat": 4,
  "nbformat_minor": 0,
  "metadata": {
    "colab": {
      "name": "Andri-FinalProject.ipynb",
      "provenance": [],
      "collapsed_sections": [],
      "toc_visible": true
    },
    "kernelspec": {
      "name": "python3",
      "display_name": "Python 3"
    },
    "language_info": {
      "name": "python"
    }
  },
  "cells": [
    {
      "cell_type": "markdown",
      "metadata": {
        "id": "0aafgedtsXiM"
      },
      "source": [
        "#Sentiment Analysis"
      ]
    },
    {
      "cell_type": "markdown",
      "metadata": {
        "id": "mTECafBRwXNK"
      },
      "source": [
        "##Scraping Data Twitter dengan keyword bemui"
      ]
    },
    {
      "cell_type": "markdown",
      "metadata": {
        "id": "BeLmivRYwb4J"
      },
      "source": [
        "## Create data set"
      ]
    },
    {
      "cell_type": "code",
      "metadata": {
        "colab": {
          "base_uri": "https://localhost:8080/"
        },
        "id": "KFG68-jttwC2",
        "outputId": "502bde71-ed3f-40ed-d226-11c0174c2d36"
      },
      "source": [
        "from google.colab import drive\n",
        "drive.mount('/content/drive')"
      ],
      "execution_count": null,
      "outputs": [
        {
          "output_type": "stream",
          "text": [
            "Drive already mounted at /content/drive; to attempt to forcibly remount, call drive.mount(\"/content/drive\", force_remount=True).\n"
          ],
          "name": "stdout"
        }
      ]
    },
    {
      "cell_type": "code",
      "metadata": {
        "colab": {
          "base_uri": "https://localhost:8080/"
        },
        "id": "4QZrvNxTu3RR",
        "outputId": "02fc1429-02cd-4e62-8031-70e4d852d176"
      },
      "source": [
        "import pandas as pd\n",
        "\n",
        "!pip install snscrape #untuk mengscrape data\n",
        "import snscrape.modules.twitter as sntwitter #panggil snscrape modul twitter sebagai sntwitter\n",
        "import itertools #generate scraping\n",
        "\n",
        "import numpy as np\n",
        "import csv"
      ],
      "execution_count": null,
      "outputs": [
        {
          "output_type": "stream",
          "text": [
            "Requirement already satisfied: snscrape in /usr/local/lib/python3.7/dist-packages (0.3.4)\n",
            "Requirement already satisfied: lxml in /usr/local/lib/python3.7/dist-packages (from snscrape) (4.2.6)\n",
            "Requirement already satisfied: beautifulsoup4 in /usr/local/lib/python3.7/dist-packages (from snscrape) (4.6.3)\n",
            "Requirement already satisfied: requests[socks] in /usr/local/lib/python3.7/dist-packages (from snscrape) (2.23.0)\n",
            "Requirement already satisfied: idna<3,>=2.5 in /usr/local/lib/python3.7/dist-packages (from requests[socks]->snscrape) (2.10)\n",
            "Requirement already satisfied: chardet<4,>=3.0.2 in /usr/local/lib/python3.7/dist-packages (from requests[socks]->snscrape) (3.0.4)\n",
            "Requirement already satisfied: certifi>=2017.4.17 in /usr/local/lib/python3.7/dist-packages (from requests[socks]->snscrape) (2021.5.30)\n",
            "Requirement already satisfied: urllib3!=1.25.0,!=1.25.1,<1.26,>=1.21.1 in /usr/local/lib/python3.7/dist-packages (from requests[socks]->snscrape) (1.24.3)\n",
            "Requirement already satisfied: PySocks!=1.5.7,>=1.5.6; extra == \"socks\" in /usr/local/lib/python3.7/dist-packages (from requests[socks]->snscrape) (1.7.1)\n"
          ],
          "name": "stdout"
        }
      ]
    },
    {
      "cell_type": "code",
      "metadata": {
        "id": "dEpouP7eu3wi"
      },
      "source": [
        "#scraping data with keyword bem ui\n",
        "df = pd.DataFrame(itertools.islice(sntwitter.TwitterSearchScraper(\n",
        "   'bem ui').get_items(), 100))[['username', 'date', 'content']]\n",
        "   #islice untuk memsiahkan kata, mencari data kata bem ui, dengan kolom username date dan conten sebanyak 100 baris"
      ],
      "execution_count": null,
      "outputs": []
    },
    {
      "cell_type": "code",
      "metadata": {
        "colab": {
          "base_uri": "https://localhost:8080/",
          "height": 200
        },
        "id": "h0jLCr49wVan",
        "outputId": "c05d4236-a137-4d9a-bb28-8df4b616ca55"
      },
      "source": [
        "df.head()"
      ],
      "execution_count": null,
      "outputs": [
        {
          "output_type": "execute_result",
          "data": {
            "text/html": [
              "<div>\n",
              "<style scoped>\n",
              "    .dataframe tbody tr th:only-of-type {\n",
              "        vertical-align: middle;\n",
              "    }\n",
              "\n",
              "    .dataframe tbody tr th {\n",
              "        vertical-align: top;\n",
              "    }\n",
              "\n",
              "    .dataframe thead th {\n",
              "        text-align: right;\n",
              "    }\n",
              "</style>\n",
              "<table border=\"1\" class=\"dataframe\">\n",
              "  <thead>\n",
              "    <tr style=\"text-align: right;\">\n",
              "      <th></th>\n",
              "      <th>username</th>\n",
              "      <th>date</th>\n",
              "      <th>content</th>\n",
              "    </tr>\n",
              "  </thead>\n",
              "  <tbody>\n",
              "    <tr>\n",
              "      <th>0</th>\n",
              "      <td>cubancryp</td>\n",
              "      <td>2021-06-29 13:24:42+00:00</td>\n",
              "      <td>@DivaJaritaKiran @BEMUI_Official @Leon_Alvinda...</td>\n",
              "    </tr>\n",
              "    <tr>\n",
              "      <th>1</th>\n",
              "      <td>ANTEB23197857</td>\n",
              "      <td>2021-06-29 13:24:39+00:00</td>\n",
              "      <td>@deditelaumbanu4 @bemui @Leon_Alvinda Mana yg ...</td>\n",
              "    </tr>\n",
              "    <tr>\n",
              "      <th>2</th>\n",
              "      <td>ajubaidisy</td>\n",
              "      <td>2021-06-29 13:24:24+00:00</td>\n",
              "      <td>___ 😛😛😛.....\\n\\nTonton \"Ade Armando Tanggapi K...</td>\n",
              "    </tr>\n",
              "    <tr>\n",
              "      <th>3</th>\n",
              "      <td>fe1522de</td>\n",
              "      <td>2021-06-29 13:24:23+00:00</td>\n",
              "      <td>@tempodotco Tunggu ntar sbulan lg..apa yg akan...</td>\n",
              "    </tr>\n",
              "    <tr>\n",
              "      <th>4</th>\n",
              "      <td>Suga_Ncug</td>\n",
              "      <td>2021-06-29 13:24:19+00:00</td>\n",
              "      <td>Presiden @Jokowi menanggapi kritik Badan Eksek...</td>\n",
              "    </tr>\n",
              "  </tbody>\n",
              "</table>\n",
              "</div>"
            ],
            "text/plain": [
              "        username  ...                                            content\n",
              "0      cubancryp  ...  @DivaJaritaKiran @BEMUI_Official @Leon_Alvinda...\n",
              "1  ANTEB23197857  ...  @deditelaumbanu4 @bemui @Leon_Alvinda Mana yg ...\n",
              "2     ajubaidisy  ...  ___ 😛😛😛.....\\n\\nTonton \"Ade Armando Tanggapi K...\n",
              "3       fe1522de  ...  @tempodotco Tunggu ntar sbulan lg..apa yg akan...\n",
              "4      Suga_Ncug  ...  Presiden @Jokowi menanggapi kritik Badan Eksek...\n",
              "\n",
              "[5 rows x 3 columns]"
            ]
          },
          "metadata": {
            "tags": []
          },
          "execution_count": 160
        }
      ]
    },
    {
      "cell_type": "code",
      "metadata": {
        "colab": {
          "base_uri": "https://localhost:8080/",
          "height": 411
        },
        "id": "8Jv8xNrtwsFu",
        "outputId": "448a6383-eec0-4f8e-cdcd-09dd222a3a28"
      },
      "source": [
        "df"
      ],
      "execution_count": null,
      "outputs": [
        {
          "output_type": "execute_result",
          "data": {
            "text/html": [
              "<div>\n",
              "<style scoped>\n",
              "    .dataframe tbody tr th:only-of-type {\n",
              "        vertical-align: middle;\n",
              "    }\n",
              "\n",
              "    .dataframe tbody tr th {\n",
              "        vertical-align: top;\n",
              "    }\n",
              "\n",
              "    .dataframe thead th {\n",
              "        text-align: right;\n",
              "    }\n",
              "</style>\n",
              "<table border=\"1\" class=\"dataframe\">\n",
              "  <thead>\n",
              "    <tr style=\"text-align: right;\">\n",
              "      <th></th>\n",
              "      <th>username</th>\n",
              "      <th>date</th>\n",
              "      <th>content</th>\n",
              "    </tr>\n",
              "  </thead>\n",
              "  <tbody>\n",
              "    <tr>\n",
              "      <th>0</th>\n",
              "      <td>cubancryp</td>\n",
              "      <td>2021-06-29 13:24:42+00:00</td>\n",
              "      <td>@DivaJaritaKiran @BEMUI_Official @Leon_Alvinda...</td>\n",
              "    </tr>\n",
              "    <tr>\n",
              "      <th>1</th>\n",
              "      <td>ANTEB23197857</td>\n",
              "      <td>2021-06-29 13:24:39+00:00</td>\n",
              "      <td>@deditelaumbanu4 @bemui @Leon_Alvinda Mana yg ...</td>\n",
              "    </tr>\n",
              "    <tr>\n",
              "      <th>2</th>\n",
              "      <td>ajubaidisy</td>\n",
              "      <td>2021-06-29 13:24:24+00:00</td>\n",
              "      <td>___ 😛😛😛.....\\n\\nTonton \"Ade Armando Tanggapi K...</td>\n",
              "    </tr>\n",
              "    <tr>\n",
              "      <th>3</th>\n",
              "      <td>fe1522de</td>\n",
              "      <td>2021-06-29 13:24:23+00:00</td>\n",
              "      <td>@tempodotco Tunggu ntar sbulan lg..apa yg akan...</td>\n",
              "    </tr>\n",
              "    <tr>\n",
              "      <th>4</th>\n",
              "      <td>Suga_Ncug</td>\n",
              "      <td>2021-06-29 13:24:19+00:00</td>\n",
              "      <td>Presiden @Jokowi menanggapi kritik Badan Eksek...</td>\n",
              "    </tr>\n",
              "    <tr>\n",
              "      <th>...</th>\n",
              "      <td>...</td>\n",
              "      <td>...</td>\n",
              "      <td>...</td>\n",
              "    </tr>\n",
              "    <tr>\n",
              "      <th>95</th>\n",
              "      <td>fahrurrosidi</td>\n",
              "      <td>2021-06-29 13:17:47+00:00</td>\n",
              "      <td>cc @BEMUI_Official @Leon_Alvinda 😁 https://t.c...</td>\n",
              "    </tr>\n",
              "    <tr>\n",
              "      <th>96</th>\n",
              "      <td>NasionalisSiber</td>\n",
              "      <td>2021-06-29 13:17:36+00:00</td>\n",
              "      <td>Daya kritis @BEMUI_Official dan @YLBHI kok tid...</td>\n",
              "    </tr>\n",
              "    <tr>\n",
              "      <th>97</th>\n",
              "      <td>raja_pasar</td>\n",
              "      <td>2021-06-29 13:17:35+00:00</td>\n",
              "      <td>@Rizmaya__ Ini modal BEM ui 2021 untuk jadi ka...</td>\n",
              "    </tr>\n",
              "    <tr>\n",
              "      <th>98</th>\n",
              "      <td>Ngalalakon</td>\n",
              "      <td>2021-06-29 13:17:34+00:00</td>\n",
              "      <td>@UmarChelsea75 @jokowi @BEMUI_Official Ngomong...</td>\n",
              "    </tr>\n",
              "    <tr>\n",
              "      <th>99</th>\n",
              "      <td>ahmadihabibi</td>\n",
              "      <td>2021-06-29 13:17:30+00:00</td>\n",
              "      <td>@3Cahyono_ @icakdidinding @BEMUI_Official @and...</td>\n",
              "    </tr>\n",
              "  </tbody>\n",
              "</table>\n",
              "<p>100 rows × 3 columns</p>\n",
              "</div>"
            ],
            "text/plain": [
              "           username  ...                                            content\n",
              "0         cubancryp  ...  @DivaJaritaKiran @BEMUI_Official @Leon_Alvinda...\n",
              "1     ANTEB23197857  ...  @deditelaumbanu4 @bemui @Leon_Alvinda Mana yg ...\n",
              "2        ajubaidisy  ...  ___ 😛😛😛.....\\n\\nTonton \"Ade Armando Tanggapi K...\n",
              "3          fe1522de  ...  @tempodotco Tunggu ntar sbulan lg..apa yg akan...\n",
              "4         Suga_Ncug  ...  Presiden @Jokowi menanggapi kritik Badan Eksek...\n",
              "..              ...  ...                                                ...\n",
              "95     fahrurrosidi  ...  cc @BEMUI_Official @Leon_Alvinda 😁 https://t.c...\n",
              "96  NasionalisSiber  ...  Daya kritis @BEMUI_Official dan @YLBHI kok tid...\n",
              "97       raja_pasar  ...  @Rizmaya__ Ini modal BEM ui 2021 untuk jadi ka...\n",
              "98       Ngalalakon  ...  @UmarChelsea75 @jokowi @BEMUI_Official Ngomong...\n",
              "99     ahmadihabibi  ...  @3Cahyono_ @icakdidinding @BEMUI_Official @and...\n",
              "\n",
              "[100 rows x 3 columns]"
            ]
          },
          "metadata": {
            "tags": []
          },
          "execution_count": 161
        }
      ]
    },
    {
      "cell_type": "markdown",
      "metadata": {
        "id": "5axL6pvgwzA4"
      },
      "source": [
        "##EDA"
      ]
    },
    {
      "cell_type": "code",
      "metadata": {
        "colab": {
          "base_uri": "https://localhost:8080/",
          "height": 352
        },
        "id": "-WZH3gWsw8Dv",
        "outputId": "645ee30f-5598-48bf-dfba-9af3bf449af5"
      },
      "source": [
        "df.head(10)"
      ],
      "execution_count": null,
      "outputs": [
        {
          "output_type": "execute_result",
          "data": {
            "text/html": [
              "<div>\n",
              "<style scoped>\n",
              "    .dataframe tbody tr th:only-of-type {\n",
              "        vertical-align: middle;\n",
              "    }\n",
              "\n",
              "    .dataframe tbody tr th {\n",
              "        vertical-align: top;\n",
              "    }\n",
              "\n",
              "    .dataframe thead th {\n",
              "        text-align: right;\n",
              "    }\n",
              "</style>\n",
              "<table border=\"1\" class=\"dataframe\">\n",
              "  <thead>\n",
              "    <tr style=\"text-align: right;\">\n",
              "      <th></th>\n",
              "      <th>username</th>\n",
              "      <th>date</th>\n",
              "      <th>content</th>\n",
              "    </tr>\n",
              "  </thead>\n",
              "  <tbody>\n",
              "    <tr>\n",
              "      <th>0</th>\n",
              "      <td>cubancryp</td>\n",
              "      <td>2021-06-29 13:24:42+00:00</td>\n",
              "      <td>@DivaJaritaKiran @BEMUI_Official @Leon_Alvinda...</td>\n",
              "    </tr>\n",
              "    <tr>\n",
              "      <th>1</th>\n",
              "      <td>ANTEB23197857</td>\n",
              "      <td>2021-06-29 13:24:39+00:00</td>\n",
              "      <td>@deditelaumbanu4 @bemui @Leon_Alvinda Mana yg ...</td>\n",
              "    </tr>\n",
              "    <tr>\n",
              "      <th>2</th>\n",
              "      <td>ajubaidisy</td>\n",
              "      <td>2021-06-29 13:24:24+00:00</td>\n",
              "      <td>___ 😛😛😛.....\\n\\nTonton \"Ade Armando Tanggapi K...</td>\n",
              "    </tr>\n",
              "    <tr>\n",
              "      <th>3</th>\n",
              "      <td>fe1522de</td>\n",
              "      <td>2021-06-29 13:24:23+00:00</td>\n",
              "      <td>@tempodotco Tunggu ntar sbulan lg..apa yg akan...</td>\n",
              "    </tr>\n",
              "    <tr>\n",
              "      <th>4</th>\n",
              "      <td>Suga_Ncug</td>\n",
              "      <td>2021-06-29 13:24:19+00:00</td>\n",
              "      <td>Presiden @Jokowi menanggapi kritik Badan Eksek...</td>\n",
              "    </tr>\n",
              "    <tr>\n",
              "      <th>5</th>\n",
              "      <td>fe1522de</td>\n",
              "      <td>2021-06-29 13:24:11+00:00</td>\n",
              "      <td>@Stevaniehuangg Tunggu ntar sbulan lg..apa yg ...</td>\n",
              "    </tr>\n",
              "    <tr>\n",
              "      <th>6</th>\n",
              "      <td>Fei_Yin_Nei</td>\n",
              "      <td>2021-06-29 13:24:07+00:00</td>\n",
              "      <td>@BEMUI_Official https://t.co/wC3ZPpTBd9</td>\n",
              "    </tr>\n",
              "    <tr>\n",
              "      <th>7</th>\n",
              "      <td>chachaichaha</td>\n",
              "      <td>2021-06-29 13:23:58+00:00</td>\n",
              "      <td>@yoskipthat @narkosun @BEMUI_Official Hahaha b...</td>\n",
              "    </tr>\n",
              "    <tr>\n",
              "      <th>8</th>\n",
              "      <td>KuntingW</td>\n",
              "      <td>2021-06-29 13:23:53+00:00</td>\n",
              "      <td>@Djoked2 Jika banyak yang mendukung BEM UI art...</td>\n",
              "    </tr>\n",
              "    <tr>\n",
              "      <th>9</th>\n",
              "      <td>AgusKodri2</td>\n",
              "      <td>2021-06-29 13:23:50+00:00</td>\n",
              "      <td>@geloraco Saya alumni ITB mengucapkan, “Ketua ...</td>\n",
              "    </tr>\n",
              "  </tbody>\n",
              "</table>\n",
              "</div>"
            ],
            "text/plain": [
              "        username  ...                                            content\n",
              "0      cubancryp  ...  @DivaJaritaKiran @BEMUI_Official @Leon_Alvinda...\n",
              "1  ANTEB23197857  ...  @deditelaumbanu4 @bemui @Leon_Alvinda Mana yg ...\n",
              "2     ajubaidisy  ...  ___ 😛😛😛.....\\n\\nTonton \"Ade Armando Tanggapi K...\n",
              "3       fe1522de  ...  @tempodotco Tunggu ntar sbulan lg..apa yg akan...\n",
              "4      Suga_Ncug  ...  Presiden @Jokowi menanggapi kritik Badan Eksek...\n",
              "5       fe1522de  ...  @Stevaniehuangg Tunggu ntar sbulan lg..apa yg ...\n",
              "6    Fei_Yin_Nei  ...            @BEMUI_Official https://t.co/wC3ZPpTBd9\n",
              "7   chachaichaha  ...  @yoskipthat @narkosun @BEMUI_Official Hahaha b...\n",
              "8       KuntingW  ...  @Djoked2 Jika banyak yang mendukung BEM UI art...\n",
              "9     AgusKodri2  ...  @geloraco Saya alumni ITB mengucapkan, “Ketua ...\n",
              "\n",
              "[10 rows x 3 columns]"
            ]
          },
          "metadata": {
            "tags": []
          },
          "execution_count": 162
        }
      ]
    },
    {
      "cell_type": "code",
      "metadata": {
        "colab": {
          "base_uri": "https://localhost:8080/",
          "height": 352
        },
        "id": "nUdawTE2w7zK",
        "outputId": "6480d735-3f95-4658-c364-1e1f50acf8a3"
      },
      "source": [
        "df.tail(10)"
      ],
      "execution_count": null,
      "outputs": [
        {
          "output_type": "execute_result",
          "data": {
            "text/html": [
              "<div>\n",
              "<style scoped>\n",
              "    .dataframe tbody tr th:only-of-type {\n",
              "        vertical-align: middle;\n",
              "    }\n",
              "\n",
              "    .dataframe tbody tr th {\n",
              "        vertical-align: top;\n",
              "    }\n",
              "\n",
              "    .dataframe thead th {\n",
              "        text-align: right;\n",
              "    }\n",
              "</style>\n",
              "<table border=\"1\" class=\"dataframe\">\n",
              "  <thead>\n",
              "    <tr style=\"text-align: right;\">\n",
              "      <th></th>\n",
              "      <th>username</th>\n",
              "      <th>date</th>\n",
              "      <th>content</th>\n",
              "    </tr>\n",
              "  </thead>\n",
              "  <tbody>\n",
              "    <tr>\n",
              "      <th>90</th>\n",
              "      <td>atie__3</td>\n",
              "      <td>2021-06-29 07:41:00+00:00</td>\n",
              "      <td>https://t.co/xXmqKi79Z4\\nBEM UI harusnya bisa ...</td>\n",
              "    </tr>\n",
              "    <tr>\n",
              "      <th>91</th>\n",
              "      <td>DiantyYasmin3</td>\n",
              "      <td>2021-06-29 07:40:59+00:00</td>\n",
              "      <td>@Bengkeltanah2 @BEMUI_Official Gak tau malu tuh</td>\n",
              "    </tr>\n",
              "    <tr>\n",
              "      <th>92</th>\n",
              "      <td>istidharto</td>\n",
              "      <td>2021-06-29 07:40:51+00:00</td>\n",
              "      <td>@_AnakKolong @BEMUI_Official Ya begitulah klo ...</td>\n",
              "    </tr>\n",
              "    <tr>\n",
              "      <th>93</th>\n",
              "      <td>KevinZefanyaa</td>\n",
              "      <td>2021-06-29 07:40:48+00:00</td>\n",
              "      <td>@adearmando1 Untuk @Leon_Alvinda jangka seseka...</td>\n",
              "    </tr>\n",
              "    <tr>\n",
              "      <th>94</th>\n",
              "      <td>onomsalam2pas</td>\n",
              "      <td>2021-06-29 07:40:43+00:00</td>\n",
              "      <td>Kritik Mahasiswa ke Jokowi:Orde (Paling) Baru,...</td>\n",
              "    </tr>\n",
              "    <tr>\n",
              "      <th>95</th>\n",
              "      <td>Bengkeltanah2</td>\n",
              "      <td>2021-06-29 07:40:27+00:00</td>\n",
              "      <td>@DiantyYasmin3 @BEMUI_Official Hadiah buat BEM...</td>\n",
              "    </tr>\n",
              "    <tr>\n",
              "      <th>96</th>\n",
              "      <td>joshnoeg</td>\n",
              "      <td>2021-06-29 07:40:26+00:00</td>\n",
              "      <td>@_AnakKolong @BEMUI_Official Seperti anak asuh...</td>\n",
              "    </tr>\n",
              "    <tr>\n",
              "      <th>97</th>\n",
              "      <td>P_Eneste</td>\n",
              "      <td>2021-06-29 07:40:21+00:00</td>\n",
              "      <td>@MrsRachelIn Belajar dari yang TIDAK LULUS TWK...</td>\n",
              "    </tr>\n",
              "    <tr>\n",
              "      <th>98</th>\n",
              "      <td>UmarChelsea75</td>\n",
              "      <td>2021-06-29 07:40:17+00:00</td>\n",
              "      <td>Baru saja dibuat meme sama BEM UI buzzerp sdh ...</td>\n",
              "    </tr>\n",
              "    <tr>\n",
              "      <th>99</th>\n",
              "      <td>VideoTRIBUN</td>\n",
              "      <td>2021-06-29 07:40:00+00:00</td>\n",
              "      <td>Ketua BEM UI Mengaku Diminta \"Takedown\" Unggah...</td>\n",
              "    </tr>\n",
              "  </tbody>\n",
              "</table>\n",
              "</div>"
            ],
            "text/plain": [
              "         username  ...                                            content\n",
              "90        atie__3  ...  https://t.co/xXmqKi79Z4\\nBEM UI harusnya bisa ...\n",
              "91  DiantyYasmin3  ...    @Bengkeltanah2 @BEMUI_Official Gak tau malu tuh\n",
              "92     istidharto  ...  @_AnakKolong @BEMUI_Official Ya begitulah klo ...\n",
              "93  KevinZefanyaa  ...  @adearmando1 Untuk @Leon_Alvinda jangka seseka...\n",
              "94  onomsalam2pas  ...  Kritik Mahasiswa ke Jokowi:Orde (Paling) Baru,...\n",
              "95  Bengkeltanah2  ...  @DiantyYasmin3 @BEMUI_Official Hadiah buat BEM...\n",
              "96       joshnoeg  ...  @_AnakKolong @BEMUI_Official Seperti anak asuh...\n",
              "97       P_Eneste  ...  @MrsRachelIn Belajar dari yang TIDAK LULUS TWK...\n",
              "98  UmarChelsea75  ...  Baru saja dibuat meme sama BEM UI buzzerp sdh ...\n",
              "99    VideoTRIBUN  ...  Ketua BEM UI Mengaku Diminta \"Takedown\" Unggah...\n",
              "\n",
              "[10 rows x 3 columns]"
            ]
          },
          "metadata": {
            "tags": []
          },
          "execution_count": 7
        }
      ]
    },
    {
      "cell_type": "code",
      "metadata": {
        "colab": {
          "base_uri": "https://localhost:8080/"
        },
        "id": "0pO6cPK1wuzN",
        "outputId": "bfe3517e-d1af-4974-81e4-7053ce023de1"
      },
      "source": [
        "df.info()"
      ],
      "execution_count": null,
      "outputs": [
        {
          "output_type": "stream",
          "text": [
            "<class 'pandas.core.frame.DataFrame'>\n",
            "RangeIndex: 100 entries, 0 to 99\n",
            "Data columns (total 3 columns):\n",
            " #   Column    Non-Null Count  Dtype              \n",
            "---  ------    --------------  -----              \n",
            " 0   username  100 non-null    object             \n",
            " 1   date      100 non-null    datetime64[ns, UTC]\n",
            " 2   content   100 non-null    object             \n",
            "dtypes: datetime64[ns, UTC](1), object(2)\n",
            "memory usage: 2.5+ KB\n"
          ],
          "name": "stdout"
        }
      ]
    },
    {
      "cell_type": "code",
      "metadata": {
        "colab": {
          "base_uri": "https://localhost:8080/"
        },
        "id": "j8R00GaMxBJO",
        "outputId": "9392ccb9-d40a-4c8b-e92b-8d0757ee4100"
      },
      "source": [
        "df.dtypes"
      ],
      "execution_count": null,
      "outputs": [
        {
          "output_type": "execute_result",
          "data": {
            "text/plain": [
              "username                 object\n",
              "date        datetime64[ns, UTC]\n",
              "content                  object\n",
              "dtype: object"
            ]
          },
          "metadata": {
            "tags": []
          },
          "execution_count": 10
        }
      ]
    },
    {
      "cell_type": "code",
      "metadata": {
        "colab": {
          "base_uri": "https://localhost:8080/",
          "height": 286
        },
        "id": "4Hh59lbbxMMF",
        "outputId": "4306bcef-e6de-4001-e065-73e48c65e4a5"
      },
      "source": [
        "df.describe()"
      ],
      "execution_count": null,
      "outputs": [
        {
          "output_type": "stream",
          "text": [
            "/usr/local/lib/python3.7/dist-packages/ipykernel_launcher.py:1: FutureWarning: Treating datetime data as categorical rather than numeric in `.describe` is deprecated and will be removed in a future version of pandas. Specify `datetime_is_numeric=True` to silence this warning and adopt the future behavior now.\n",
            "  \"\"\"Entry point for launching an IPython kernel.\n"
          ],
          "name": "stderr"
        },
        {
          "output_type": "execute_result",
          "data": {
            "text/html": [
              "<div>\n",
              "<style scoped>\n",
              "    .dataframe tbody tr th:only-of-type {\n",
              "        vertical-align: middle;\n",
              "    }\n",
              "\n",
              "    .dataframe tbody tr th {\n",
              "        vertical-align: top;\n",
              "    }\n",
              "\n",
              "    .dataframe thead th {\n",
              "        text-align: right;\n",
              "    }\n",
              "</style>\n",
              "<table border=\"1\" class=\"dataframe\">\n",
              "  <thead>\n",
              "    <tr style=\"text-align: right;\">\n",
              "      <th></th>\n",
              "      <th>username</th>\n",
              "      <th>date</th>\n",
              "      <th>content</th>\n",
              "    </tr>\n",
              "  </thead>\n",
              "  <tbody>\n",
              "    <tr>\n",
              "      <th>count</th>\n",
              "      <td>100</td>\n",
              "      <td>100</td>\n",
              "      <td>100</td>\n",
              "    </tr>\n",
              "    <tr>\n",
              "      <th>unique</th>\n",
              "      <td>82</td>\n",
              "      <td>93</td>\n",
              "      <td>100</td>\n",
              "    </tr>\n",
              "    <tr>\n",
              "      <th>top</th>\n",
              "      <td>P_Eneste</td>\n",
              "      <td>2021-06-29 07:49:57+00:00</td>\n",
              "      <td>Ade Armando Mengeluh: Ketua BEM UI Tak Mau Dis...</td>\n",
              "    </tr>\n",
              "    <tr>\n",
              "      <th>freq</th>\n",
              "      <td>4</td>\n",
              "      <td>3</td>\n",
              "      <td>1</td>\n",
              "    </tr>\n",
              "    <tr>\n",
              "      <th>first</th>\n",
              "      <td>NaN</td>\n",
              "      <td>2021-06-29 07:40:00+00:00</td>\n",
              "      <td>NaN</td>\n",
              "    </tr>\n",
              "    <tr>\n",
              "      <th>last</th>\n",
              "      <td>NaN</td>\n",
              "      <td>2021-06-29 07:53:39+00:00</td>\n",
              "      <td>NaN</td>\n",
              "    </tr>\n",
              "  </tbody>\n",
              "</table>\n",
              "</div>"
            ],
            "text/plain": [
              "        username  ...                                            content\n",
              "count        100  ...                                                100\n",
              "unique        82  ...                                                100\n",
              "top     P_Eneste  ...  Ade Armando Mengeluh: Ketua BEM UI Tak Mau Dis...\n",
              "freq           4  ...                                                  1\n",
              "first        NaN  ...                                                NaN\n",
              "last         NaN  ...                                                NaN\n",
              "\n",
              "[6 rows x 3 columns]"
            ]
          },
          "metadata": {
            "tags": []
          },
          "execution_count": 11
        }
      ]
    },
    {
      "cell_type": "code",
      "metadata": {
        "colab": {
          "base_uri": "https://localhost:8080/",
          "height": 411
        },
        "id": "lCcCGB-UxdJk",
        "outputId": "ff27e822-da3e-4cf6-8454-3ddd87e21eed"
      },
      "source": [
        "df.isnull() #pengecekan null atau tidak, tidak null karna false"
      ],
      "execution_count": null,
      "outputs": [
        {
          "output_type": "execute_result",
          "data": {
            "text/html": [
              "<div>\n",
              "<style scoped>\n",
              "    .dataframe tbody tr th:only-of-type {\n",
              "        vertical-align: middle;\n",
              "    }\n",
              "\n",
              "    .dataframe tbody tr th {\n",
              "        vertical-align: top;\n",
              "    }\n",
              "\n",
              "    .dataframe thead th {\n",
              "        text-align: right;\n",
              "    }\n",
              "</style>\n",
              "<table border=\"1\" class=\"dataframe\">\n",
              "  <thead>\n",
              "    <tr style=\"text-align: right;\">\n",
              "      <th></th>\n",
              "      <th>username</th>\n",
              "      <th>date</th>\n",
              "      <th>content</th>\n",
              "    </tr>\n",
              "  </thead>\n",
              "  <tbody>\n",
              "    <tr>\n",
              "      <th>0</th>\n",
              "      <td>False</td>\n",
              "      <td>False</td>\n",
              "      <td>False</td>\n",
              "    </tr>\n",
              "    <tr>\n",
              "      <th>1</th>\n",
              "      <td>False</td>\n",
              "      <td>False</td>\n",
              "      <td>False</td>\n",
              "    </tr>\n",
              "    <tr>\n",
              "      <th>2</th>\n",
              "      <td>False</td>\n",
              "      <td>False</td>\n",
              "      <td>False</td>\n",
              "    </tr>\n",
              "    <tr>\n",
              "      <th>3</th>\n",
              "      <td>False</td>\n",
              "      <td>False</td>\n",
              "      <td>False</td>\n",
              "    </tr>\n",
              "    <tr>\n",
              "      <th>4</th>\n",
              "      <td>False</td>\n",
              "      <td>False</td>\n",
              "      <td>False</td>\n",
              "    </tr>\n",
              "    <tr>\n",
              "      <th>...</th>\n",
              "      <td>...</td>\n",
              "      <td>...</td>\n",
              "      <td>...</td>\n",
              "    </tr>\n",
              "    <tr>\n",
              "      <th>95</th>\n",
              "      <td>False</td>\n",
              "      <td>False</td>\n",
              "      <td>False</td>\n",
              "    </tr>\n",
              "    <tr>\n",
              "      <th>96</th>\n",
              "      <td>False</td>\n",
              "      <td>False</td>\n",
              "      <td>False</td>\n",
              "    </tr>\n",
              "    <tr>\n",
              "      <th>97</th>\n",
              "      <td>False</td>\n",
              "      <td>False</td>\n",
              "      <td>False</td>\n",
              "    </tr>\n",
              "    <tr>\n",
              "      <th>98</th>\n",
              "      <td>False</td>\n",
              "      <td>False</td>\n",
              "      <td>False</td>\n",
              "    </tr>\n",
              "    <tr>\n",
              "      <th>99</th>\n",
              "      <td>False</td>\n",
              "      <td>False</td>\n",
              "      <td>False</td>\n",
              "    </tr>\n",
              "  </tbody>\n",
              "</table>\n",
              "<p>100 rows × 3 columns</p>\n",
              "</div>"
            ],
            "text/plain": [
              "    username   date  content\n",
              "0      False  False    False\n",
              "1      False  False    False\n",
              "2      False  False    False\n",
              "3      False  False    False\n",
              "4      False  False    False\n",
              "..       ...    ...      ...\n",
              "95     False  False    False\n",
              "96     False  False    False\n",
              "97     False  False    False\n",
              "98     False  False    False\n",
              "99     False  False    False\n",
              "\n",
              "[100 rows x 3 columns]"
            ]
          },
          "metadata": {
            "tags": []
          },
          "execution_count": 12
        }
      ]
    },
    {
      "cell_type": "code",
      "metadata": {
        "colab": {
          "base_uri": "https://localhost:8080/"
        },
        "id": "mZyMKylGx08C",
        "outputId": "a0fdf56e-c18e-46ab-9433-4e534f811b1b"
      },
      "source": [
        "df.isna().sum() #handling missing value, untuk mengetahui nilai yg hilang,tidak ada data N/a"
      ],
      "execution_count": null,
      "outputs": [
        {
          "output_type": "execute_result",
          "data": {
            "text/plain": [
              "username    0\n",
              "date        0\n",
              "content     0\n",
              "dtype: int64"
            ]
          },
          "metadata": {
            "tags": []
          },
          "execution_count": 14
        }
      ]
    },
    {
      "cell_type": "code",
      "metadata": {
        "colab": {
          "base_uri": "https://localhost:8080/"
        },
        "id": "G30e1LZAx5ib",
        "outputId": "7cf040b4-972a-4768-f41d-b1fb13d47046"
      },
      "source": [
        "df.isnull().sum() #tidak ada data Null"
      ],
      "execution_count": null,
      "outputs": [
        {
          "output_type": "execute_result",
          "data": {
            "text/plain": [
              "username    0\n",
              "date        0\n",
              "content     0\n",
              "dtype: int64"
            ]
          },
          "metadata": {
            "tags": []
          },
          "execution_count": 15
        }
      ]
    },
    {
      "cell_type": "code",
      "metadata": {
        "colab": {
          "base_uri": "https://localhost:8080/"
        },
        "id": "MdTRvozTyU73",
        "outputId": "54d41d33-5211-43cb-ca92-99b9c47c1e2f"
      },
      "source": [
        "df['content'] #gunakan untuk analisa sentimen"
      ],
      "execution_count": null,
      "outputs": [
        {
          "output_type": "execute_result",
          "data": {
            "text/plain": [
              "0     @DivaJaritaKiran @BEMUI_Official @Leon_Alvinda...\n",
              "1     @deditelaumbanu4 @bemui @Leon_Alvinda Mana yg ...\n",
              "2     ___ 😛😛😛.....\\n\\nTonton \"Ade Armando Tanggapi K...\n",
              "3     @tempodotco Tunggu ntar sbulan lg..apa yg akan...\n",
              "4     Presiden @Jokowi menanggapi kritik Badan Eksek...\n",
              "                            ...                        \n",
              "95    cc @BEMUI_Official @Leon_Alvinda 😁 https://t.c...\n",
              "96    Daya kritis @BEMUI_Official dan @YLBHI kok tid...\n",
              "97    @Rizmaya__ Ini modal BEM ui 2021 untuk jadi ka...\n",
              "98    @UmarChelsea75 @jokowi @BEMUI_Official Ngomong...\n",
              "99    @3Cahyono_ @icakdidinding @BEMUI_Official @and...\n",
              "Name: content, Length: 100, dtype: object"
            ]
          },
          "metadata": {
            "tags": []
          },
          "execution_count": 163
        }
      ]
    },
    {
      "cell_type": "code",
      "metadata": {
        "id": "d0Sn9mkxyazN"
      },
      "source": [
        "df = df.drop(columns=['username', 'date']) #menghapus kolom username dan date"
      ],
      "execution_count": null,
      "outputs": []
    },
    {
      "cell_type": "code",
      "metadata": {
        "colab": {
          "base_uri": "https://localhost:8080/",
          "height": 411
        },
        "id": "t13wDeOEysDz",
        "outputId": "195fdac0-42b2-4564-aba6-20947dc0f82e"
      },
      "source": [
        "df"
      ],
      "execution_count": null,
      "outputs": [
        {
          "output_type": "execute_result",
          "data": {
            "text/html": [
              "<div>\n",
              "<style scoped>\n",
              "    .dataframe tbody tr th:only-of-type {\n",
              "        vertical-align: middle;\n",
              "    }\n",
              "\n",
              "    .dataframe tbody tr th {\n",
              "        vertical-align: top;\n",
              "    }\n",
              "\n",
              "    .dataframe thead th {\n",
              "        text-align: right;\n",
              "    }\n",
              "</style>\n",
              "<table border=\"1\" class=\"dataframe\">\n",
              "  <thead>\n",
              "    <tr style=\"text-align: right;\">\n",
              "      <th></th>\n",
              "      <th>content</th>\n",
              "    </tr>\n",
              "  </thead>\n",
              "  <tbody>\n",
              "    <tr>\n",
              "      <th>0</th>\n",
              "      <td>@DivaJaritaKiran @BEMUI_Official @Leon_Alvinda...</td>\n",
              "    </tr>\n",
              "    <tr>\n",
              "      <th>1</th>\n",
              "      <td>@deditelaumbanu4 @bemui @Leon_Alvinda Mana yg ...</td>\n",
              "    </tr>\n",
              "    <tr>\n",
              "      <th>2</th>\n",
              "      <td>___ 😛😛😛.....\\n\\nTonton \"Ade Armando Tanggapi K...</td>\n",
              "    </tr>\n",
              "    <tr>\n",
              "      <th>3</th>\n",
              "      <td>@tempodotco Tunggu ntar sbulan lg..apa yg akan...</td>\n",
              "    </tr>\n",
              "    <tr>\n",
              "      <th>4</th>\n",
              "      <td>Presiden @Jokowi menanggapi kritik Badan Eksek...</td>\n",
              "    </tr>\n",
              "    <tr>\n",
              "      <th>...</th>\n",
              "      <td>...</td>\n",
              "    </tr>\n",
              "    <tr>\n",
              "      <th>95</th>\n",
              "      <td>cc @BEMUI_Official @Leon_Alvinda 😁 https://t.c...</td>\n",
              "    </tr>\n",
              "    <tr>\n",
              "      <th>96</th>\n",
              "      <td>Daya kritis @BEMUI_Official dan @YLBHI kok tid...</td>\n",
              "    </tr>\n",
              "    <tr>\n",
              "      <th>97</th>\n",
              "      <td>@Rizmaya__ Ini modal BEM ui 2021 untuk jadi ka...</td>\n",
              "    </tr>\n",
              "    <tr>\n",
              "      <th>98</th>\n",
              "      <td>@UmarChelsea75 @jokowi @BEMUI_Official Ngomong...</td>\n",
              "    </tr>\n",
              "    <tr>\n",
              "      <th>99</th>\n",
              "      <td>@3Cahyono_ @icakdidinding @BEMUI_Official @and...</td>\n",
              "    </tr>\n",
              "  </tbody>\n",
              "</table>\n",
              "<p>100 rows × 1 columns</p>\n",
              "</div>"
            ],
            "text/plain": [
              "                                              content\n",
              "0   @DivaJaritaKiran @BEMUI_Official @Leon_Alvinda...\n",
              "1   @deditelaumbanu4 @bemui @Leon_Alvinda Mana yg ...\n",
              "2   ___ 😛😛😛.....\\n\\nTonton \"Ade Armando Tanggapi K...\n",
              "3   @tempodotco Tunggu ntar sbulan lg..apa yg akan...\n",
              "4   Presiden @Jokowi menanggapi kritik Badan Eksek...\n",
              "..                                                ...\n",
              "95  cc @BEMUI_Official @Leon_Alvinda 😁 https://t.c...\n",
              "96  Daya kritis @BEMUI_Official dan @YLBHI kok tid...\n",
              "97  @Rizmaya__ Ini modal BEM ui 2021 untuk jadi ka...\n",
              "98  @UmarChelsea75 @jokowi @BEMUI_Official Ngomong...\n",
              "99  @3Cahyono_ @icakdidinding @BEMUI_Official @and...\n",
              "\n",
              "[100 rows x 1 columns]"
            ]
          },
          "metadata": {
            "tags": []
          },
          "execution_count": 167
        }
      ]
    },
    {
      "cell_type": "code",
      "metadata": {
        "id": "SdIKf0URyuW-"
      },
      "source": [
        "df.content=df.content.astype(str) #analisa sentimen akan menghapus angka, maka harus dijadikan string dulu, maka jadilah dataset untuk analisis"
      ],
      "execution_count": null,
      "outputs": []
    },
    {
      "cell_type": "code",
      "metadata": {
        "colab": {
          "base_uri": "https://localhost:8080/",
          "height": 411
        },
        "id": "YT464k94yxlm",
        "outputId": "3d825fc1-f04c-4a5f-c609-7051f586f044"
      },
      "source": [
        "df"
      ],
      "execution_count": null,
      "outputs": [
        {
          "output_type": "execute_result",
          "data": {
            "text/html": [
              "<div>\n",
              "<style scoped>\n",
              "    .dataframe tbody tr th:only-of-type {\n",
              "        vertical-align: middle;\n",
              "    }\n",
              "\n",
              "    .dataframe tbody tr th {\n",
              "        vertical-align: top;\n",
              "    }\n",
              "\n",
              "    .dataframe thead th {\n",
              "        text-align: right;\n",
              "    }\n",
              "</style>\n",
              "<table border=\"1\" class=\"dataframe\">\n",
              "  <thead>\n",
              "    <tr style=\"text-align: right;\">\n",
              "      <th></th>\n",
              "      <th>content</th>\n",
              "    </tr>\n",
              "  </thead>\n",
              "  <tbody>\n",
              "    <tr>\n",
              "      <th>0</th>\n",
              "      <td>@DivaJaritaKiran @BEMUI_Official @Leon_Alvinda...</td>\n",
              "    </tr>\n",
              "    <tr>\n",
              "      <th>1</th>\n",
              "      <td>@deditelaumbanu4 @bemui @Leon_Alvinda Mana yg ...</td>\n",
              "    </tr>\n",
              "    <tr>\n",
              "      <th>2</th>\n",
              "      <td>___ 😛😛😛.....\\n\\nTonton \"Ade Armando Tanggapi K...</td>\n",
              "    </tr>\n",
              "    <tr>\n",
              "      <th>3</th>\n",
              "      <td>@tempodotco Tunggu ntar sbulan lg..apa yg akan...</td>\n",
              "    </tr>\n",
              "    <tr>\n",
              "      <th>4</th>\n",
              "      <td>Presiden @Jokowi menanggapi kritik Badan Eksek...</td>\n",
              "    </tr>\n",
              "    <tr>\n",
              "      <th>...</th>\n",
              "      <td>...</td>\n",
              "    </tr>\n",
              "    <tr>\n",
              "      <th>95</th>\n",
              "      <td>cc @BEMUI_Official @Leon_Alvinda 😁 https://t.c...</td>\n",
              "    </tr>\n",
              "    <tr>\n",
              "      <th>96</th>\n",
              "      <td>Daya kritis @BEMUI_Official dan @YLBHI kok tid...</td>\n",
              "    </tr>\n",
              "    <tr>\n",
              "      <th>97</th>\n",
              "      <td>@Rizmaya__ Ini modal BEM ui 2021 untuk jadi ka...</td>\n",
              "    </tr>\n",
              "    <tr>\n",
              "      <th>98</th>\n",
              "      <td>@UmarChelsea75 @jokowi @BEMUI_Official Ngomong...</td>\n",
              "    </tr>\n",
              "    <tr>\n",
              "      <th>99</th>\n",
              "      <td>@3Cahyono_ @icakdidinding @BEMUI_Official @and...</td>\n",
              "    </tr>\n",
              "  </tbody>\n",
              "</table>\n",
              "<p>100 rows × 1 columns</p>\n",
              "</div>"
            ],
            "text/plain": [
              "                                              content\n",
              "0   @DivaJaritaKiran @BEMUI_Official @Leon_Alvinda...\n",
              "1   @deditelaumbanu4 @bemui @Leon_Alvinda Mana yg ...\n",
              "2   ___ 😛😛😛.....\\n\\nTonton \"Ade Armando Tanggapi K...\n",
              "3   @tempodotco Tunggu ntar sbulan lg..apa yg akan...\n",
              "4   Presiden @Jokowi menanggapi kritik Badan Eksek...\n",
              "..                                                ...\n",
              "95  cc @BEMUI_Official @Leon_Alvinda 😁 https://t.c...\n",
              "96  Daya kritis @BEMUI_Official dan @YLBHI kok tid...\n",
              "97  @Rizmaya__ Ini modal BEM ui 2021 untuk jadi ka...\n",
              "98  @UmarChelsea75 @jokowi @BEMUI_Official Ngomong...\n",
              "99  @3Cahyono_ @icakdidinding @BEMUI_Official @and...\n",
              "\n",
              "[100 rows x 1 columns]"
            ]
          },
          "metadata": {
            "tags": []
          },
          "execution_count": 169
        }
      ]
    },
    {
      "cell_type": "code",
      "metadata": {
        "id": "uFH0YVrRy1LS"
      },
      "source": [
        "df.to_csv('/content/drive/MyDrive/Colab Notebooks/dataset_bemui.csv', index=None) #save di drive dengan nama colab notebooks\n",
        "#NLP untuk menganalisis text + = & natural\n",
        "#masuk ke unsupervised learning"
      ],
      "execution_count": null,
      "outputs": []
    },
    {
      "cell_type": "markdown",
      "metadata": {
        "id": "dDxMipzRzXod"
      },
      "source": [
        "#Data cleaning & translating"
      ]
    },
    {
      "cell_type": "code",
      "metadata": {
        "colab": {
          "base_uri": "https://localhost:8080/",
          "height": 411
        },
        "id": "2hddhwUAzg7N",
        "outputId": "5a026836-8a1d-40a2-d194-a06d4687cac7"
      },
      "source": [
        "df = pd.read_csv('/content/drive/MyDrive/Colab Notebooks/dataset_bemui.csv')\n",
        "df"
      ],
      "execution_count": null,
      "outputs": [
        {
          "output_type": "execute_result",
          "data": {
            "text/html": [
              "<div>\n",
              "<style scoped>\n",
              "    .dataframe tbody tr th:only-of-type {\n",
              "        vertical-align: middle;\n",
              "    }\n",
              "\n",
              "    .dataframe tbody tr th {\n",
              "        vertical-align: top;\n",
              "    }\n",
              "\n",
              "    .dataframe thead th {\n",
              "        text-align: right;\n",
              "    }\n",
              "</style>\n",
              "<table border=\"1\" class=\"dataframe\">\n",
              "  <thead>\n",
              "    <tr style=\"text-align: right;\">\n",
              "      <th></th>\n",
              "      <th>content</th>\n",
              "    </tr>\n",
              "  </thead>\n",
              "  <tbody>\n",
              "    <tr>\n",
              "      <th>0</th>\n",
              "      <td>@DivaJaritaKiran @BEMUI_Official @Leon_Alvinda...</td>\n",
              "    </tr>\n",
              "    <tr>\n",
              "      <th>1</th>\n",
              "      <td>@deditelaumbanu4 @bemui @Leon_Alvinda Mana yg ...</td>\n",
              "    </tr>\n",
              "    <tr>\n",
              "      <th>2</th>\n",
              "      <td>___ 😛😛😛.....\\n\\nTonton \"Ade Armando Tanggapi K...</td>\n",
              "    </tr>\n",
              "    <tr>\n",
              "      <th>3</th>\n",
              "      <td>@tempodotco Tunggu ntar sbulan lg..apa yg akan...</td>\n",
              "    </tr>\n",
              "    <tr>\n",
              "      <th>4</th>\n",
              "      <td>Presiden @Jokowi menanggapi kritik Badan Eksek...</td>\n",
              "    </tr>\n",
              "    <tr>\n",
              "      <th>...</th>\n",
              "      <td>...</td>\n",
              "    </tr>\n",
              "    <tr>\n",
              "      <th>95</th>\n",
              "      <td>cc @BEMUI_Official @Leon_Alvinda 😁 https://t.c...</td>\n",
              "    </tr>\n",
              "    <tr>\n",
              "      <th>96</th>\n",
              "      <td>Daya kritis @BEMUI_Official dan @YLBHI kok tid...</td>\n",
              "    </tr>\n",
              "    <tr>\n",
              "      <th>97</th>\n",
              "      <td>@Rizmaya__ Ini modal BEM ui 2021 untuk jadi ka...</td>\n",
              "    </tr>\n",
              "    <tr>\n",
              "      <th>98</th>\n",
              "      <td>@UmarChelsea75 @jokowi @BEMUI_Official Ngomong...</td>\n",
              "    </tr>\n",
              "    <tr>\n",
              "      <th>99</th>\n",
              "      <td>@3Cahyono_ @icakdidinding @BEMUI_Official @and...</td>\n",
              "    </tr>\n",
              "  </tbody>\n",
              "</table>\n",
              "<p>100 rows × 1 columns</p>\n",
              "</div>"
            ],
            "text/plain": [
              "                                              content\n",
              "0   @DivaJaritaKiran @BEMUI_Official @Leon_Alvinda...\n",
              "1   @deditelaumbanu4 @bemui @Leon_Alvinda Mana yg ...\n",
              "2   ___ 😛😛😛.....\\n\\nTonton \"Ade Armando Tanggapi K...\n",
              "3   @tempodotco Tunggu ntar sbulan lg..apa yg akan...\n",
              "4   Presiden @Jokowi menanggapi kritik Badan Eksek...\n",
              "..                                                ...\n",
              "95  cc @BEMUI_Official @Leon_Alvinda 😁 https://t.c...\n",
              "96  Daya kritis @BEMUI_Official dan @YLBHI kok tid...\n",
              "97  @Rizmaya__ Ini modal BEM ui 2021 untuk jadi ka...\n",
              "98  @UmarChelsea75 @jokowi @BEMUI_Official Ngomong...\n",
              "99  @3Cahyono_ @icakdidinding @BEMUI_Official @and...\n",
              "\n",
              "[100 rows x 1 columns]"
            ]
          },
          "metadata": {
            "tags": []
          },
          "execution_count": 171
        }
      ]
    },
    {
      "cell_type": "code",
      "metadata": {
        "id": "UKSTQ0Vb0T86"
      },
      "source": [
        "#  Cleaning text\n",
        "import re #regex\n",
        "import string #\n",
        "\n",
        "def clean_text(tweet):\n",
        "    tweet = tweet.lower() # create lowercase to all text\n",
        "    tweet = re.sub('@[^\\s]+', '', tweet) # remove usernames\n",
        "    tweet = re.sub('\\[.*?\\]', '', tweet) # remove square brackets\n",
        "    tweet = re.sub('((www\\.[^\\s]+)|(https?://[^\\s]+))', '', tweet) # remove URLs\n",
        "    tweet = re.sub('[%s]' % re.escape(string.punctuation), '', tweet) # remove punctuation\n",
        "    tweet = re.sub('\\w*\\d\\w*', '', tweet) # remove character\n",
        "    tweet = re.sub('[‘’“”…]', '', tweet) # remove character\n",
        "    tweet = re.sub('\\n', '', tweet) # remove character\n",
        "    return tweet\n",
        "\n",
        "    \n",
        "tweet = lambda x: clean_text(x) #lambda untuk mengapply "
      ],
      "execution_count": null,
      "outputs": []
    },
    {
      "cell_type": "code",
      "metadata": {
        "colab": {
          "base_uri": "https://localhost:8080/",
          "height": 411
        },
        "id": "bXrnHSx-0cHc",
        "outputId": "2d23c91a-d264-4801-d47b-e53318af2ed4"
      },
      "source": [
        "df['clean1'] = pd.DataFrame(df.content.apply(tweet)) # nama kolom barunya clean1 untuk mengganti nama content lalu membuat dataframe dari df.content, lalu apply dari lambda tadi tweetnya\n",
        "df"
      ],
      "execution_count": null,
      "outputs": [
        {
          "output_type": "execute_result",
          "data": {
            "text/html": [
              "<div>\n",
              "<style scoped>\n",
              "    .dataframe tbody tr th:only-of-type {\n",
              "        vertical-align: middle;\n",
              "    }\n",
              "\n",
              "    .dataframe tbody tr th {\n",
              "        vertical-align: top;\n",
              "    }\n",
              "\n",
              "    .dataframe thead th {\n",
              "        text-align: right;\n",
              "    }\n",
              "</style>\n",
              "<table border=\"1\" class=\"dataframe\">\n",
              "  <thead>\n",
              "    <tr style=\"text-align: right;\">\n",
              "      <th></th>\n",
              "      <th>content</th>\n",
              "      <th>clean1</th>\n",
              "    </tr>\n",
              "  </thead>\n",
              "  <tbody>\n",
              "    <tr>\n",
              "      <th>0</th>\n",
              "      <td>@DivaJaritaKiran @BEMUI_Official @Leon_Alvinda...</td>\n",
              "      <td>ketika orang yang berbeda pendapat sama lo ...</td>\n",
              "    </tr>\n",
              "    <tr>\n",
              "      <th>1</th>\n",
              "      <td>@deditelaumbanu4 @bemui @Leon_Alvinda Mana yg ...</td>\n",
              "      <td>mana yg katanya cumlaudeapa yg telah kau bu...</td>\n",
              "    </tr>\n",
              "    <tr>\n",
              "      <th>2</th>\n",
              "      <td>___ 😛😛😛.....\\n\\nTonton \"Ade Armando Tanggapi K...</td>\n",
              "      <td>😛😛😛tonton ade armando tanggapi kritikan bem u...</td>\n",
              "    </tr>\n",
              "    <tr>\n",
              "      <th>3</th>\n",
              "      <td>@tempodotco Tunggu ntar sbulan lg..apa yg akan...</td>\n",
              "      <td>tunggu ntar sbulan lgapa yg akan trjadi sama ...</td>\n",
              "    </tr>\n",
              "    <tr>\n",
              "      <th>4</th>\n",
              "      <td>Presiden @Jokowi menanggapi kritik Badan Eksek...</td>\n",
              "      <td>presiden  menanggapi kritik badan eksekutif ma...</td>\n",
              "    </tr>\n",
              "    <tr>\n",
              "      <th>...</th>\n",
              "      <td>...</td>\n",
              "      <td>...</td>\n",
              "    </tr>\n",
              "    <tr>\n",
              "      <th>95</th>\n",
              "      <td>cc @BEMUI_Official @Leon_Alvinda 😁 https://t.c...</td>\n",
              "      <td>cc   😁</td>\n",
              "    </tr>\n",
              "    <tr>\n",
              "      <th>96</th>\n",
              "      <td>Daya kritis @BEMUI_Official dan @YLBHI kok tid...</td>\n",
              "      <td>daya kritis  dan  kok tidak kelihatan di depan...</td>\n",
              "    </tr>\n",
              "    <tr>\n",
              "      <th>97</th>\n",
              "      <td>@Rizmaya__ Ini modal BEM ui 2021 untuk jadi ka...</td>\n",
              "      <td>ini modal bem ui  untuk jadi kader pks</td>\n",
              "    </tr>\n",
              "    <tr>\n",
              "      <th>98</th>\n",
              "      <td>@UmarChelsea75 @jokowi @BEMUI_Official Ngomong...</td>\n",
              "      <td>ngomong bukan dari hati dan otaknya  teksny...</td>\n",
              "    </tr>\n",
              "    <tr>\n",
              "      <th>99</th>\n",
              "      <td>@3Cahyono_ @icakdidinding @BEMUI_Official @and...</td>\n",
              "      <td>karena pak presiden minta dikritik ya dikr...</td>\n",
              "    </tr>\n",
              "  </tbody>\n",
              "</table>\n",
              "<p>100 rows × 2 columns</p>\n",
              "</div>"
            ],
            "text/plain": [
              "                                              content                                             clean1\n",
              "0   @DivaJaritaKiran @BEMUI_Official @Leon_Alvinda...     ketika orang yang berbeda pendapat sama lo ...\n",
              "1   @deditelaumbanu4 @bemui @Leon_Alvinda Mana yg ...     mana yg katanya cumlaudeapa yg telah kau bu...\n",
              "2   ___ 😛😛😛.....\\n\\nTonton \"Ade Armando Tanggapi K...   😛😛😛tonton ade armando tanggapi kritikan bem u...\n",
              "3   @tempodotco Tunggu ntar sbulan lg..apa yg akan...   tunggu ntar sbulan lgapa yg akan trjadi sama ...\n",
              "4   Presiden @Jokowi menanggapi kritik Badan Eksek...  presiden  menanggapi kritik badan eksekutif ma...\n",
              "..                                                ...                                                ...\n",
              "95  cc @BEMUI_Official @Leon_Alvinda 😁 https://t.c...                                            cc   😁 \n",
              "96  Daya kritis @BEMUI_Official dan @YLBHI kok tid...  daya kritis  dan  kok tidak kelihatan di depan...\n",
              "97  @Rizmaya__ Ini modal BEM ui 2021 untuk jadi ka...             ini modal bem ui  untuk jadi kader pks\n",
              "98  @UmarChelsea75 @jokowi @BEMUI_Official Ngomong...     ngomong bukan dari hati dan otaknya  teksny...\n",
              "99  @3Cahyono_ @icakdidinding @BEMUI_Official @and...      karena pak presiden minta dikritik ya dikr...\n",
              "\n",
              "[100 rows x 2 columns]"
            ]
          },
          "metadata": {
            "tags": []
          },
          "execution_count": 173
        }
      ]
    },
    {
      "cell_type": "code",
      "metadata": {
        "colab": {
          "base_uri": "https://localhost:8080/",
          "height": 566
        },
        "id": "4vLjjhOu1G8P",
        "outputId": "1c7ee9a9-0af2-4353-8e86-4ac6fbbb643d"
      },
      "source": [
        "import nltk # Natural Language Toolkit\n",
        "nltk.download('stopwords') # mendelete kata2 yang tidak penting, kata2 imbuhan\n",
        "from nltk.corpus import stopwords # corpus adalah kamus, lalu panggil stopwords\n",
        "additional  = ['rt','rts','retweet'] # kata yang ingin ditambahkan untuk dihapus\n",
        "swords = set().union(stopwords.words('indonesian'), additional) # menghapus kalimat2 dari bahasa indonesia dan menambahkannya dengan additional\n",
        "\n",
        "df['clean2'] = (df['clean1'].apply(lambda x: ' '.join([word for word in x.split() if word not in (swords)]))) #melakukan apply terhadap clean1, dengan membuat kolom baru,split untuk membagi atau memisahkan teks\n",
        "df"
      ],
      "execution_count": null,
      "outputs": [
        {
          "output_type": "stream",
          "text": [
            "[nltk_data] Downloading package stopwords to /root/nltk_data...\n",
            "[nltk_data]   Package stopwords is already up-to-date!\n"
          ],
          "name": "stdout"
        },
        {
          "output_type": "execute_result",
          "data": {
            "text/html": [
              "<div>\n",
              "<style scoped>\n",
              "    .dataframe tbody tr th:only-of-type {\n",
              "        vertical-align: middle;\n",
              "    }\n",
              "\n",
              "    .dataframe tbody tr th {\n",
              "        vertical-align: top;\n",
              "    }\n",
              "\n",
              "    .dataframe thead th {\n",
              "        text-align: right;\n",
              "    }\n",
              "</style>\n",
              "<table border=\"1\" class=\"dataframe\">\n",
              "  <thead>\n",
              "    <tr style=\"text-align: right;\">\n",
              "      <th></th>\n",
              "      <th>content</th>\n",
              "      <th>clean1</th>\n",
              "      <th>clean2</th>\n",
              "    </tr>\n",
              "  </thead>\n",
              "  <tbody>\n",
              "    <tr>\n",
              "      <th>0</th>\n",
              "      <td>@DivaJaritaKiran @BEMUI_Official @Leon_Alvinda...</td>\n",
              "      <td>ketika orang yang berbeda pendapat sama lo ...</td>\n",
              "      <td>orang berbeda pendapat lo lo lo namanya dungu ...</td>\n",
              "    </tr>\n",
              "    <tr>\n",
              "      <th>1</th>\n",
              "      <td>@deditelaumbanu4 @bemui @Leon_Alvinda Mana yg ...</td>\n",
              "      <td>mana yg katanya cumlaudeapa yg telah kau bu...</td>\n",
              "      <td>yg cumlaudeapa yg kau utk bangsa inibikin anak...</td>\n",
              "    </tr>\n",
              "    <tr>\n",
              "      <th>2</th>\n",
              "      <td>___ 😛😛😛.....\\n\\nTonton \"Ade Armando Tanggapi K...</td>\n",
              "      <td>😛😛😛tonton ade armando tanggapi kritikan bem u...</td>\n",
              "      <td>😛😛😛tonton ade armando tanggapi kritikan bem ui...</td>\n",
              "    </tr>\n",
              "    <tr>\n",
              "      <th>3</th>\n",
              "      <td>@tempodotco Tunggu ntar sbulan lg..apa yg akan...</td>\n",
              "      <td>tunggu ntar sbulan lgapa yg akan trjadi sama ...</td>\n",
              "      <td>tunggu ntar sbulan lgapa yg trjadi bem uistlh ...</td>\n",
              "    </tr>\n",
              "    <tr>\n",
              "      <th>4</th>\n",
              "      <td>Presiden @Jokowi menanggapi kritik Badan Eksek...</td>\n",
              "      <td>presiden  menanggapi kritik badan eksekutif ma...</td>\n",
              "      <td>presiden menanggapi kritik badan eksekutif mah...</td>\n",
              "    </tr>\n",
              "    <tr>\n",
              "      <th>...</th>\n",
              "      <td>...</td>\n",
              "      <td>...</td>\n",
              "      <td>...</td>\n",
              "    </tr>\n",
              "    <tr>\n",
              "      <th>95</th>\n",
              "      <td>cc @BEMUI_Official @Leon_Alvinda 😁 https://t.c...</td>\n",
              "      <td>cc   😁</td>\n",
              "      <td>cc 😁</td>\n",
              "    </tr>\n",
              "    <tr>\n",
              "      <th>96</th>\n",
              "      <td>Daya kritis @BEMUI_Official dan @YLBHI kok tid...</td>\n",
              "      <td>daya kritis  dan  kok tidak kelihatan di depan...</td>\n",
              "      <td>daya kritis aniesbaswedan terbeli kah daya kri...</td>\n",
              "    </tr>\n",
              "    <tr>\n",
              "      <th>97</th>\n",
              "      <td>@Rizmaya__ Ini modal BEM ui 2021 untuk jadi ka...</td>\n",
              "      <td>ini modal bem ui  untuk jadi kader pks</td>\n",
              "      <td>modal bem ui kader pks</td>\n",
              "    </tr>\n",
              "    <tr>\n",
              "      <th>98</th>\n",
              "      <td>@UmarChelsea75 @jokowi @BEMUI_Official Ngomong...</td>\n",
              "      <td>ngomong bukan dari hati dan otaknya  teksny...</td>\n",
              "      <td>ngomong hati otaknya teksnya</td>\n",
              "    </tr>\n",
              "    <tr>\n",
              "      <th>99</th>\n",
              "      <td>@3Cahyono_ @icakdidinding @BEMUI_Official @and...</td>\n",
              "      <td>karena pak presiden minta dikritik ya dikr...</td>\n",
              "      <td>presiden dikritik ya dikritik kangen dikritik ...</td>\n",
              "    </tr>\n",
              "  </tbody>\n",
              "</table>\n",
              "<p>100 rows × 3 columns</p>\n",
              "</div>"
            ],
            "text/plain": [
              "                                              content  ...                                             clean2\n",
              "0   @DivaJaritaKiran @BEMUI_Official @Leon_Alvinda...  ...  orang berbeda pendapat lo lo lo namanya dungu ...\n",
              "1   @deditelaumbanu4 @bemui @Leon_Alvinda Mana yg ...  ...  yg cumlaudeapa yg kau utk bangsa inibikin anak...\n",
              "2   ___ 😛😛😛.....\\n\\nTonton \"Ade Armando Tanggapi K...  ...  😛😛😛tonton ade armando tanggapi kritikan bem ui...\n",
              "3   @tempodotco Tunggu ntar sbulan lg..apa yg akan...  ...  tunggu ntar sbulan lgapa yg trjadi bem uistlh ...\n",
              "4   Presiden @Jokowi menanggapi kritik Badan Eksek...  ...  presiden menanggapi kritik badan eksekutif mah...\n",
              "..                                                ...  ...                                                ...\n",
              "95  cc @BEMUI_Official @Leon_Alvinda 😁 https://t.c...  ...                                               cc 😁\n",
              "96  Daya kritis @BEMUI_Official dan @YLBHI kok tid...  ...  daya kritis aniesbaswedan terbeli kah daya kri...\n",
              "97  @Rizmaya__ Ini modal BEM ui 2021 untuk jadi ka...  ...                             modal bem ui kader pks\n",
              "98  @UmarChelsea75 @jokowi @BEMUI_Official Ngomong...  ...                       ngomong hati otaknya teksnya\n",
              "99  @3Cahyono_ @icakdidinding @BEMUI_Official @and...  ...  presiden dikritik ya dikritik kangen dikritik ...\n",
              "\n",
              "[100 rows x 3 columns]"
            ]
          },
          "metadata": {
            "tags": []
          },
          "execution_count": 174
        }
      ]
    },
    {
      "cell_type": "code",
      "metadata": {
        "id": "8UZcfBKu1X2s"
      },
      "source": [
        "text = df['clean2'] # menyimpan kolom data clean2 ke variabel text"
      ],
      "execution_count": null,
      "outputs": []
    },
    {
      "cell_type": "code",
      "metadata": {
        "colab": {
          "base_uri": "https://localhost:8080/",
          "height": 581
        },
        "id": "p_YXi1FIAqoP",
        "outputId": "76f80efd-c4ab-4148-c028-ad1825a62397"
      },
      "source": [
        "df.dropna() #menghapus data kosong (N/a), output memnunjukkan tak ada data yg dihapus/ tak ada yg N/a"
      ],
      "execution_count": null,
      "outputs": [
        {
          "output_type": "execute_result",
          "data": {
            "text/html": [
              "<div>\n",
              "<style scoped>\n",
              "    .dataframe tbody tr th:only-of-type {\n",
              "        vertical-align: middle;\n",
              "    }\n",
              "\n",
              "    .dataframe tbody tr th {\n",
              "        vertical-align: top;\n",
              "    }\n",
              "\n",
              "    .dataframe thead th {\n",
              "        text-align: right;\n",
              "    }\n",
              "</style>\n",
              "<table border=\"1\" class=\"dataframe\">\n",
              "  <thead>\n",
              "    <tr style=\"text-align: right;\">\n",
              "      <th></th>\n",
              "      <th>content</th>\n",
              "      <th>clean1</th>\n",
              "      <th>clean2</th>\n",
              "      <th>clean3</th>\n",
              "    </tr>\n",
              "  </thead>\n",
              "  <tbody>\n",
              "    <tr>\n",
              "      <th>0</th>\n",
              "      <td>@DivaJaritaKiran @BEMUI_Official @Leon_Alvinda...</td>\n",
              "      <td>ketika orang yang berbeda pendapat sama lo ...</td>\n",
              "      <td>orang berbeda pendapat lo lo lo namanya dungu ...</td>\n",
              "      <td>orang beda dapat lo lo lo nama dungu oon tolol</td>\n",
              "    </tr>\n",
              "    <tr>\n",
              "      <th>1</th>\n",
              "      <td>@deditelaumbanu4 @bemui @Leon_Alvinda Mana yg ...</td>\n",
              "      <td>mana yg katanya cumlaudeapa yg telah kau bu...</td>\n",
              "      <td>yg cumlaudeapa yg kau utk bangsa inibikin anak...</td>\n",
              "      <td>yg cumlaudeapa yg kau utk bangsa inibikin anak...</td>\n",
              "    </tr>\n",
              "    <tr>\n",
              "      <th>2</th>\n",
              "      <td>___ 😛😛😛.....\\n\\nTonton \"Ade Armando Tanggapi K...</td>\n",
              "      <td>😛😛😛tonton ade armando tanggapi kritikan bem u...</td>\n",
              "      <td>😛😛😛tonton ade armando tanggapi kritikan bem ui...</td>\n",
              "      <td>tonton ade armando tanggap kritik bem ui presi...</td>\n",
              "    </tr>\n",
              "    <tr>\n",
              "      <th>3</th>\n",
              "      <td>@tempodotco Tunggu ntar sbulan lg..apa yg akan...</td>\n",
              "      <td>tunggu ntar sbulan lgapa yg akan trjadi sama ...</td>\n",
              "      <td>tunggu ntar sbulan lgapa yg trjadi bem uistlh ...</td>\n",
              "      <td>tunggu ntar sbulan lgapa yg trjadi bem uistlh ...</td>\n",
              "    </tr>\n",
              "    <tr>\n",
              "      <th>4</th>\n",
              "      <td>Presiden @Jokowi menanggapi kritik Badan Eksek...</td>\n",
              "      <td>presiden  menanggapi kritik badan eksekutif ma...</td>\n",
              "      <td>presiden menanggapi kritik badan eksekutif mah...</td>\n",
              "      <td>presiden tanggap kritik badan eksekutif mahasi...</td>\n",
              "    </tr>\n",
              "    <tr>\n",
              "      <th>...</th>\n",
              "      <td>...</td>\n",
              "      <td>...</td>\n",
              "      <td>...</td>\n",
              "      <td>...</td>\n",
              "    </tr>\n",
              "    <tr>\n",
              "      <th>95</th>\n",
              "      <td>cc @BEMUI_Official @Leon_Alvinda 😁 https://t.c...</td>\n",
              "      <td>cc   😁</td>\n",
              "      <td>cc 😁</td>\n",
              "      <td>cc</td>\n",
              "    </tr>\n",
              "    <tr>\n",
              "      <th>96</th>\n",
              "      <td>Daya kritis @BEMUI_Official dan @YLBHI kok tid...</td>\n",
              "      <td>daya kritis  dan  kok tidak kelihatan di depan...</td>\n",
              "      <td>daya kritis aniesbaswedan terbeli kah daya kri...</td>\n",
              "      <td>daya kritis aniesbaswedan beli kah daya kritis...</td>\n",
              "    </tr>\n",
              "    <tr>\n",
              "      <th>97</th>\n",
              "      <td>@Rizmaya__ Ini modal BEM ui 2021 untuk jadi ka...</td>\n",
              "      <td>ini modal bem ui  untuk jadi kader pks</td>\n",
              "      <td>modal bem ui kader pks</td>\n",
              "      <td>modal bem ui kader pks</td>\n",
              "    </tr>\n",
              "    <tr>\n",
              "      <th>98</th>\n",
              "      <td>@UmarChelsea75 @jokowi @BEMUI_Official Ngomong...</td>\n",
              "      <td>ngomong bukan dari hati dan otaknya  teksny...</td>\n",
              "      <td>ngomong hati otaknya teksnya</td>\n",
              "      <td>ngomong hati otak teks</td>\n",
              "    </tr>\n",
              "    <tr>\n",
              "      <th>99</th>\n",
              "      <td>@3Cahyono_ @icakdidinding @BEMUI_Official @and...</td>\n",
              "      <td>karena pak presiden minta dikritik ya dikr...</td>\n",
              "      <td>presiden dikritik ya dikritik kangen dikritik ...</td>\n",
              "      <td>presiden kritik ya kritik kangen kritik kangen...</td>\n",
              "    </tr>\n",
              "  </tbody>\n",
              "</table>\n",
              "<p>100 rows × 4 columns</p>\n",
              "</div>"
            ],
            "text/plain": [
              "                                              content  ...                                             clean3\n",
              "0   @DivaJaritaKiran @BEMUI_Official @Leon_Alvinda...  ...     orang beda dapat lo lo lo nama dungu oon tolol\n",
              "1   @deditelaumbanu4 @bemui @Leon_Alvinda Mana yg ...  ...  yg cumlaudeapa yg kau utk bangsa inibikin anak...\n",
              "2   ___ 😛😛😛.....\\n\\nTonton \"Ade Armando Tanggapi K...  ...  tonton ade armando tanggap kritik bem ui presi...\n",
              "3   @tempodotco Tunggu ntar sbulan lg..apa yg akan...  ...  tunggu ntar sbulan lgapa yg trjadi bem uistlh ...\n",
              "4   Presiden @Jokowi menanggapi kritik Badan Eksek...  ...  presiden tanggap kritik badan eksekutif mahasi...\n",
              "..                                                ...  ...                                                ...\n",
              "95  cc @BEMUI_Official @Leon_Alvinda 😁 https://t.c...  ...                                                 cc\n",
              "96  Daya kritis @BEMUI_Official dan @YLBHI kok tid...  ...  daya kritis aniesbaswedan beli kah daya kritis...\n",
              "97  @Rizmaya__ Ini modal BEM ui 2021 untuk jadi ka...  ...                             modal bem ui kader pks\n",
              "98  @UmarChelsea75 @jokowi @BEMUI_Official Ngomong...  ...                             ngomong hati otak teks\n",
              "99  @3Cahyono_ @icakdidinding @BEMUI_Official @and...  ...  presiden kritik ya kritik kangen kritik kangen...\n",
              "\n",
              "[100 rows x 4 columns]"
            ]
          },
          "metadata": {
            "tags": []
          },
          "execution_count": 181
        }
      ]
    },
    {
      "cell_type": "code",
      "metadata": {
        "colab": {
          "base_uri": "https://localhost:8080/"
        },
        "id": "vSsy5FsV1n4x",
        "outputId": "b87b4e67-557e-4a8f-c59d-7ba9e6071cdb"
      },
      "source": [
        "!pip install Sastrawi #sastrawi untuk stemming, untuk menghilangkan kata berimbuhan"
      ],
      "execution_count": null,
      "outputs": [
        {
          "output_type": "stream",
          "text": [
            "Requirement already satisfied: Sastrawi in /usr/local/lib/python3.7/dist-packages (1.0.1)\n"
          ],
          "name": "stdout"
        }
      ]
    },
    {
      "cell_type": "code",
      "metadata": {
        "id": "BgC5rmE11tHl"
      },
      "source": [
        "from Sastrawi.Stemmer.StemmerFactory import StemmerFactory #menggunakan stemming yg ada pada stemming\n",
        "\n",
        "factory = StemmerFactory() #memanggil fungsi stemmerfactory\n",
        "stemmer = factory.create_stemmer() #memanggil fungsi create stemmer pada stemmer factory\n",
        "\n",
        "list_hasil = text\n",
        "\n",
        "output = [(stemmer.stem(token)) for token in list_hasil] #untuk membuat tokenisasi, harus dibuat dalam bentuk pemisah kata"
      ],
      "execution_count": null,
      "outputs": []
    },
    {
      "cell_type": "code",
      "metadata": {
        "colab": {
          "base_uri": "https://localhost:8080/"
        },
        "id": "jOb7SS7P40Bm",
        "outputId": "90542cf1-dee9-40a9-a46f-75ae6254d27d"
      },
      "source": [
        "output"
      ],
      "execution_count": null,
      "outputs": [
        {
          "output_type": "execute_result",
          "data": {
            "text/plain": [
              "['orang beda dapat lo lo lo nama dungu oon tolol',\n",
              " 'yg cumlaudeapa yg kau utk bangsa inibikin anak bikin gejolak selangkanganbuktikan sonk kampus yg prestasi prestai',\n",
              " 'tonton ade armando tanggap kritik bem ui presiden jokowi dangkal youtube',\n",
              " 'tunggu ntar sbulan lgapa yg trjadi bem uistlh br simpul omong bner gk',\n",
              " 'presiden tanggap kritik badan eksekutif mahasiswa universitas indonesia bem ui kepala negara kritik bentuk ekspresi mahasiswa boleh negara demokrasi indonesiajokowi indonesiamaju',\n",
              " 'tunggu ntar sbulan lgapa yg trjadi bem uistlh br simpul omong bner gk',\n",
              " '',\n",
              " 'hahaha bilang aka gak pake bukti mas opini',\n",
              " 'dukung bem ui ndak percaya',\n",
              " 'alumni itb ketua bem ui top markotop',\n",
              " 'presiden mah santuy aja lo bebacot aja silah bem ui mah zonk',\n",
              " 'indeks terawang aman nope yg rencana retas gituh',\n",
              " 'wkwk lucu lo pilih buzzer kadrun emang kalo pilih salah lo masuk surga gitu wkwk nama dungu ajar ngaji serta tajwid arti makna',\n",
              " 'jangan si novel bamukmin dulunya ketua bem ui ya',\n",
              " 'gue kagak rahim drun lbh rahim firza hussain dgn bibit hrs jamin allah suka happykrn lahir turun dahsyat bgnu cisarua puncak bnyk arab kawin kontrak pakai rahim ncun aja gmn',\n",
              " 'bu mega tolong muda cs semangat fokus akurat berani maju lengah riuh dukung jalin sama komunikasi layak hidup anak muda hidup mahasiswahidup mega',\n",
              " 'bem ui is surprisingly primitive in presenting their materials exempli gratia this insta post the last image in the post contains a shortlink however would you manually type it to your address baryoud think that youngsters are more techsavvy not always the case',\n",
              " 'bem ui gaada istirahat holy fucking shit',\n",
              " 'hahah cool',\n",
              " 'balik',\n",
              " 'sarkasme',\n",
              " 'loh bajer',\n",
              " 'nih bukti bem ui bodoh amat ingat bem ui mahkota foto jokowi presiden simbol negara',\n",
              " 'klu berani kritik kritikklu berani hina hinakarma',\n",
              " 'bem ui ga gajah',\n",
              " 'bem ui bayar koruptor',\n",
              " 'santun ktika datang habaib ulama ngabur woyy',\n",
              " '',\n",
              " 'iya bener bem ui uinya gada guna',\n",
              " 'kek ka giring opini masyarakat untk jelek presiden skrng guna klian giring masyarakat indo nyampe herd immunity',\n",
              " 'yg bem ui mrpk wujud sampai ekspresi yg sah dlm koridor krn isi release yg bem ui bpk presiden yg tdk realisasi juluk the king of lip service',\n",
              " 'pantau sosial media informasi kini line instagram ohfasilkomtwitter open house fasilkom ui downtherabbitholebiro hubung masyarakatbem fasilkom ui selaraskanmaknagapaicita',\n",
              " 'oooh kirain kias makasih yoo',\n",
              " 'yg ngebanggain ipk nya ketu bem ui pake nanya brp ipk nya presiden woiiii presiden brpun ipk nyalah yg nanya',\n",
              " 'bem ui rendah alat proaganda anti perintah',\n",
              " 'klarifikasi ketua bem ui',\n",
              " 'nih baca',\n",
              " 'bajer triak bajer',\n",
              " 'ui depok lho jurus susah masuk',\n",
              " 'yoa liat anak bem ui butuh bantu so im back bitjez buzzer',\n",
              " 'hidup nyata nih gak butuh angka ipnamun kerja nyata yg guna masyarakat banyakemang tuh angka makan',\n",
              " 'tonton ade armando bem ui politik kritik dangkal youtube',\n",
              " 'yg malu memble duduk manis beritahukan tepat king of lips service',\n",
              " 'musim pk kuota pk indiehome bkn konteks gw gw komentar bem ui thats it',\n",
              " 'bgmna klau bpk nya ketua bem ui jg kritik sbg king of lip service',\n",
              " 'coba bem uii nya disamain',\n",
              " 'sujiwo tejo bem ui panggil rektor suruh klarifikasi jabat komisaris bumn',\n",
              " 'ngaku kan ngak bedain yg amp salah dungu',\n",
              " 'negara islam boss ya rubah negara islam mah gw neng yg korupsi langsung potong tangan standar ganda',\n",
              " 'permisi izin promosi kaka kuyy open jasa hapus akun murah mudah aman percaya thnkyou',\n",
              " 'kadrun masuk grup ya buzzer tolong info',\n",
              " 'hahaha ga malu tuh alumni ui dukung bem ui',\n",
              " 'taimu kuning neng sempak mu kuning bh mu kuning otak kuning',\n",
              " 'kritik bem ui presiden jokowi bentuk ekspresi negara demokrasi',\n",
              " 'jajar civitas bem ui siaga banget nih kayak',\n",
              " '',\n",
              " 'dprdewanprostitusibelum habis bem ui dpr dewan prostitusi kritik pedas keras biar perintah dengar',\n",
              " 'nitip sendal mari btw jg ngampus ui ketua bem nya ga model gin',\n",
              " 'koq bem ui tdk tau',\n",
              " 'photo brp',\n",
              " 'reformasi lumpuhdemokrasi democrazy the king of lip service gagal jalan amanat reformasi rakyat muntah umur lawan dukung penuh mahasiswaagenperubahanmahasiswaagenperubahan',\n",
              " 'sujiwo tejo gilir bem ui panggil rektor suruh klarifikasi jabat komisaris bumn',\n",
              " 'gak heran kalo bem ui meme',\n",
              " 'diam perilaku yangtidak beda kritik hinaantidak ajar masalah dikoarkoarkan medsos bunyisaya serendah kualitas didik disanashame on you ui',\n",
              " 'wkwk nengok kolam golak junjung kritik bem ui ugm anis yg dibully wkwkw',\n",
              " 'maksud kpk yg jd fokus on duty khaninfografis tweetmumemasukkan insert aspirasi beliau sbg ramai dg fakta lapangankenapa bilang opini opini sumber daftar pustaka tp beda sampai dg karya ilmiah',\n",
              " '',\n",
              " 'virus rezim pki tanam kpk',\n",
              " 'cinta dunia takut mati alwahn landa manusia ubah mjd dungu cerdas kagum tp krn dunia sdh cokol hati susah utk operasi dikeluarkanbemui mahasiswaagenperubahan mukidimunduraja thekingoflipservice',\n",
              " 'wkwkk',\n",
              " 'hoax presiden intervensi hukumtapi kpk presiden suruh intervensi konsisten data demo mk nya',\n",
              " 'yaitubem beneran bemohebat ketua bem nya uitop dah',\n",
              " 'media knp sih postingan bem ui biarin aja napa sih nama mahasiswa come on saji berita yg relate',\n",
              " 'cc',\n",
              " 'ayobem ui ganti panggil si rektorbuat klarifikasi rangkap jabat ituhrakyat dukung penuh',\n",
              " 'tekor duga serang mas king of lips service bandar tekor',\n",
              " 'easy to meaning hard to explainwhoyouand youand youuuubemui bembangkitbersama',\n",
              " 'ngak buzzerrp amp ngak kadrun pilih yg bicara benar kadrun amp lawan benar buzzerrp pilih ngak pilih komen aq sok netral yg ngak pilih hidup alias dungu',\n",
              " 'join bem ui',\n",
              " '',\n",
              " 'poster bem ui kritik universitas halang',\n",
              " 'bocahmaklum banyak maen game warnet kadang yg klo rumah suka nyasar mata banyak depan layar',\n",
              " 'bem ui kah',\n",
              " 'negara demokrasi kritik koreksi bijak masuk pemimpinbemui jokowithekingoflipservice',\n",
              " 'panggil salah kaprah pasal kritik tugas mahasiswa warga negara intelek jalan kewajibannyabemui jokowithekingoflipservice',\n",
              " 'jokowi kritik mahasiswa bentuk ekspresi boleh negara demokrasi indonesiabemui jokowithekingoflipservice',\n",
              " 'bem ui unggah kritik jokowi twitter sabtu sebut eks gubernur dki jakarta the king of lip servicebemui jokowithekingoflipservice',\n",
              " 'situ eks tum mui tindak bem ui kampusbemui jokowithekingoflipservice',\n",
              " 'nyata bem ui otak subsidi',\n",
              " 'kereeenn',\n",
              " 'firli taun juara idol jd',\n",
              " 'ketua bem ui ciut nyali nantang debat ade armando eee takut dasar kecut yg sok pinter',\n",
              " 'hahahahahahah',\n",
              " 'kritik bismillah komisaris acakadut savekpk beranijujurpecatreformasihabisdikorupsipekanmelawan',\n",
              " 'kadang yg tangan kotor bersih hati',\n",
              " 'cc',\n",
              " 'daya kritis aniesbaswedan beli kah daya kritis dkijakarta',\n",
              " 'modal bem ui kader pks',\n",
              " 'ngomong hati otak teks',\n",
              " 'presiden kritik ya kritik kangen kritik kangen demo beu ui bantu presiden lohh karna bantu tetapi ucapanya terima kasih kawan kawan bem ui']"
            ]
          },
          "metadata": {
            "tags": []
          },
          "execution_count": 178
        }
      ]
    },
    {
      "cell_type": "code",
      "metadata": {
        "id": "YN0WT22M5-No"
      },
      "source": [
        "df['clean3'] = output #merubah var output jadi kolom clean3 dalam dataframe df"
      ],
      "execution_count": null,
      "outputs": []
    },
    {
      "cell_type": "code",
      "metadata": {
        "colab": {
          "base_uri": "https://localhost:8080/",
          "height": 581
        },
        "id": "gkP61OBC6HUZ",
        "outputId": "814c7606-a279-4547-ade7-cdf6151dc225"
      },
      "source": [
        "df"
      ],
      "execution_count": null,
      "outputs": [
        {
          "output_type": "execute_result",
          "data": {
            "text/html": [
              "<div>\n",
              "<style scoped>\n",
              "    .dataframe tbody tr th:only-of-type {\n",
              "        vertical-align: middle;\n",
              "    }\n",
              "\n",
              "    .dataframe tbody tr th {\n",
              "        vertical-align: top;\n",
              "    }\n",
              "\n",
              "    .dataframe thead th {\n",
              "        text-align: right;\n",
              "    }\n",
              "</style>\n",
              "<table border=\"1\" class=\"dataframe\">\n",
              "  <thead>\n",
              "    <tr style=\"text-align: right;\">\n",
              "      <th></th>\n",
              "      <th>content</th>\n",
              "      <th>clean1</th>\n",
              "      <th>clean2</th>\n",
              "      <th>clean3</th>\n",
              "    </tr>\n",
              "  </thead>\n",
              "  <tbody>\n",
              "    <tr>\n",
              "      <th>0</th>\n",
              "      <td>@DivaJaritaKiran @BEMUI_Official @Leon_Alvinda...</td>\n",
              "      <td>ketika orang yang berbeda pendapat sama lo ...</td>\n",
              "      <td>orang berbeda pendapat lo lo lo namanya dungu ...</td>\n",
              "      <td>orang beda dapat lo lo lo nama dungu oon tolol</td>\n",
              "    </tr>\n",
              "    <tr>\n",
              "      <th>1</th>\n",
              "      <td>@deditelaumbanu4 @bemui @Leon_Alvinda Mana yg ...</td>\n",
              "      <td>mana yg katanya cumlaudeapa yg telah kau bu...</td>\n",
              "      <td>yg cumlaudeapa yg kau utk bangsa inibikin anak...</td>\n",
              "      <td>yg cumlaudeapa yg kau utk bangsa inibikin anak...</td>\n",
              "    </tr>\n",
              "    <tr>\n",
              "      <th>2</th>\n",
              "      <td>___ 😛😛😛.....\\n\\nTonton \"Ade Armando Tanggapi K...</td>\n",
              "      <td>😛😛😛tonton ade armando tanggapi kritikan bem u...</td>\n",
              "      <td>😛😛😛tonton ade armando tanggapi kritikan bem ui...</td>\n",
              "      <td>tonton ade armando tanggap kritik bem ui presi...</td>\n",
              "    </tr>\n",
              "    <tr>\n",
              "      <th>3</th>\n",
              "      <td>@tempodotco Tunggu ntar sbulan lg..apa yg akan...</td>\n",
              "      <td>tunggu ntar sbulan lgapa yg akan trjadi sama ...</td>\n",
              "      <td>tunggu ntar sbulan lgapa yg trjadi bem uistlh ...</td>\n",
              "      <td>tunggu ntar sbulan lgapa yg trjadi bem uistlh ...</td>\n",
              "    </tr>\n",
              "    <tr>\n",
              "      <th>4</th>\n",
              "      <td>Presiden @Jokowi menanggapi kritik Badan Eksek...</td>\n",
              "      <td>presiden  menanggapi kritik badan eksekutif ma...</td>\n",
              "      <td>presiden menanggapi kritik badan eksekutif mah...</td>\n",
              "      <td>presiden tanggap kritik badan eksekutif mahasi...</td>\n",
              "    </tr>\n",
              "    <tr>\n",
              "      <th>...</th>\n",
              "      <td>...</td>\n",
              "      <td>...</td>\n",
              "      <td>...</td>\n",
              "      <td>...</td>\n",
              "    </tr>\n",
              "    <tr>\n",
              "      <th>95</th>\n",
              "      <td>cc @BEMUI_Official @Leon_Alvinda 😁 https://t.c...</td>\n",
              "      <td>cc   😁</td>\n",
              "      <td>cc 😁</td>\n",
              "      <td>cc</td>\n",
              "    </tr>\n",
              "    <tr>\n",
              "      <th>96</th>\n",
              "      <td>Daya kritis @BEMUI_Official dan @YLBHI kok tid...</td>\n",
              "      <td>daya kritis  dan  kok tidak kelihatan di depan...</td>\n",
              "      <td>daya kritis aniesbaswedan terbeli kah daya kri...</td>\n",
              "      <td>daya kritis aniesbaswedan beli kah daya kritis...</td>\n",
              "    </tr>\n",
              "    <tr>\n",
              "      <th>97</th>\n",
              "      <td>@Rizmaya__ Ini modal BEM ui 2021 untuk jadi ka...</td>\n",
              "      <td>ini modal bem ui  untuk jadi kader pks</td>\n",
              "      <td>modal bem ui kader pks</td>\n",
              "      <td>modal bem ui kader pks</td>\n",
              "    </tr>\n",
              "    <tr>\n",
              "      <th>98</th>\n",
              "      <td>@UmarChelsea75 @jokowi @BEMUI_Official Ngomong...</td>\n",
              "      <td>ngomong bukan dari hati dan otaknya  teksny...</td>\n",
              "      <td>ngomong hati otaknya teksnya</td>\n",
              "      <td>ngomong hati otak teks</td>\n",
              "    </tr>\n",
              "    <tr>\n",
              "      <th>99</th>\n",
              "      <td>@3Cahyono_ @icakdidinding @BEMUI_Official @and...</td>\n",
              "      <td>karena pak presiden minta dikritik ya dikr...</td>\n",
              "      <td>presiden dikritik ya dikritik kangen dikritik ...</td>\n",
              "      <td>presiden kritik ya kritik kangen kritik kangen...</td>\n",
              "    </tr>\n",
              "  </tbody>\n",
              "</table>\n",
              "<p>100 rows × 4 columns</p>\n",
              "</div>"
            ],
            "text/plain": [
              "                                              content  ...                                             clean3\n",
              "0   @DivaJaritaKiran @BEMUI_Official @Leon_Alvinda...  ...     orang beda dapat lo lo lo nama dungu oon tolol\n",
              "1   @deditelaumbanu4 @bemui @Leon_Alvinda Mana yg ...  ...  yg cumlaudeapa yg kau utk bangsa inibikin anak...\n",
              "2   ___ 😛😛😛.....\\n\\nTonton \"Ade Armando Tanggapi K...  ...  tonton ade armando tanggap kritik bem ui presi...\n",
              "3   @tempodotco Tunggu ntar sbulan lg..apa yg akan...  ...  tunggu ntar sbulan lgapa yg trjadi bem uistlh ...\n",
              "4   Presiden @Jokowi menanggapi kritik Badan Eksek...  ...  presiden tanggap kritik badan eksekutif mahasi...\n",
              "..                                                ...  ...                                                ...\n",
              "95  cc @BEMUI_Official @Leon_Alvinda 😁 https://t.c...  ...                                                 cc\n",
              "96  Daya kritis @BEMUI_Official dan @YLBHI kok tid...  ...  daya kritis aniesbaswedan beli kah daya kritis...\n",
              "97  @Rizmaya__ Ini modal BEM ui 2021 untuk jadi ka...  ...                             modal bem ui kader pks\n",
              "98  @UmarChelsea75 @jokowi @BEMUI_Official Ngomong...  ...                             ngomong hati otak teks\n",
              "99  @3Cahyono_ @icakdidinding @BEMUI_Official @and...  ...  presiden kritik ya kritik kangen kritik kangen...\n",
              "\n",
              "[100 rows x 4 columns]"
            ]
          },
          "metadata": {
            "tags": []
          },
          "execution_count": 180
        }
      ]
    },
    {
      "cell_type": "code",
      "metadata": {
        "colab": {
          "base_uri": "https://localhost:8080/"
        },
        "id": "1xpDP5KmAyfn",
        "outputId": "71f553f2-e847-470c-94d1-1ddb2b9bf92a"
      },
      "source": [
        "nltk.download('punkt') #nltk telah didownload karena True"
      ],
      "execution_count": null,
      "outputs": [
        {
          "output_type": "stream",
          "text": [
            "[nltk_data] Downloading package punkt to /root/nltk_data...\n",
            "[nltk_data]   Package punkt is already up-to-date!\n"
          ],
          "name": "stdout"
        },
        {
          "output_type": "execute_result",
          "data": {
            "text/plain": [
              "True"
            ]
          },
          "metadata": {
            "tags": []
          },
          "execution_count": 182
        }
      ]
    },
    {
      "cell_type": "code",
      "metadata": {
        "colab": {
          "base_uri": "https://localhost:8080/",
          "height": 632
        },
        "id": "M5rFLVVX3_RY",
        "outputId": "fe263a78-ab71-401b-97cd-e0a4db8a80e7"
      },
      "source": [
        "df['tokens'] = pd.DataFrame(df['clean3'].apply(nltk.word_tokenize)) #gunakan fungsi dalam punkt untuk memisahkan kata dengan fungsi word_tokenoize\n",
        "df #ngga kepake kolom tokens, cuma buat belajar doang shell ini"
      ],
      "execution_count": null,
      "outputs": [
        {
          "output_type": "execute_result",
          "data": {
            "text/html": [
              "<div>\n",
              "<style scoped>\n",
              "    .dataframe tbody tr th:only-of-type {\n",
              "        vertical-align: middle;\n",
              "    }\n",
              "\n",
              "    .dataframe tbody tr th {\n",
              "        vertical-align: top;\n",
              "    }\n",
              "\n",
              "    .dataframe thead th {\n",
              "        text-align: right;\n",
              "    }\n",
              "</style>\n",
              "<table border=\"1\" class=\"dataframe\">\n",
              "  <thead>\n",
              "    <tr style=\"text-align: right;\">\n",
              "      <th></th>\n",
              "      <th>content</th>\n",
              "      <th>clean1</th>\n",
              "      <th>clean2</th>\n",
              "      <th>clean3</th>\n",
              "      <th>tokens</th>\n",
              "    </tr>\n",
              "  </thead>\n",
              "  <tbody>\n",
              "    <tr>\n",
              "      <th>0</th>\n",
              "      <td>@DivaJaritaKiran @BEMUI_Official @Leon_Alvinda...</td>\n",
              "      <td>ketika orang yang berbeda pendapat sama lo ...</td>\n",
              "      <td>orang berbeda pendapat lo lo lo namanya dungu ...</td>\n",
              "      <td>orang beda dapat lo lo lo nama dungu oon tolol</td>\n",
              "      <td>[orang, beda, dapat, lo, lo, lo, nama, dungu, ...</td>\n",
              "    </tr>\n",
              "    <tr>\n",
              "      <th>1</th>\n",
              "      <td>@deditelaumbanu4 @bemui @Leon_Alvinda Mana yg ...</td>\n",
              "      <td>mana yg katanya cumlaudeapa yg telah kau bu...</td>\n",
              "      <td>yg cumlaudeapa yg kau utk bangsa inibikin anak...</td>\n",
              "      <td>yg cumlaudeapa yg kau utk bangsa inibikin anak...</td>\n",
              "      <td>[yg, cumlaudeapa, yg, kau, utk, bangsa, inibik...</td>\n",
              "    </tr>\n",
              "    <tr>\n",
              "      <th>2</th>\n",
              "      <td>___ 😛😛😛.....\\n\\nTonton \"Ade Armando Tanggapi K...</td>\n",
              "      <td>😛😛😛tonton ade armando tanggapi kritikan bem u...</td>\n",
              "      <td>😛😛😛tonton ade armando tanggapi kritikan bem ui...</td>\n",
              "      <td>tonton ade armando tanggap kritik bem ui presi...</td>\n",
              "      <td>[tonton, ade, armando, tanggap, kritik, bem, u...</td>\n",
              "    </tr>\n",
              "    <tr>\n",
              "      <th>3</th>\n",
              "      <td>@tempodotco Tunggu ntar sbulan lg..apa yg akan...</td>\n",
              "      <td>tunggu ntar sbulan lgapa yg akan trjadi sama ...</td>\n",
              "      <td>tunggu ntar sbulan lgapa yg trjadi bem uistlh ...</td>\n",
              "      <td>tunggu ntar sbulan lgapa yg trjadi bem uistlh ...</td>\n",
              "      <td>[tunggu, ntar, sbulan, lgapa, yg, trjadi, bem,...</td>\n",
              "    </tr>\n",
              "    <tr>\n",
              "      <th>4</th>\n",
              "      <td>Presiden @Jokowi menanggapi kritik Badan Eksek...</td>\n",
              "      <td>presiden  menanggapi kritik badan eksekutif ma...</td>\n",
              "      <td>presiden menanggapi kritik badan eksekutif mah...</td>\n",
              "      <td>presiden tanggap kritik badan eksekutif mahasi...</td>\n",
              "      <td>[presiden, tanggap, kritik, badan, eksekutif, ...</td>\n",
              "    </tr>\n",
              "    <tr>\n",
              "      <th>...</th>\n",
              "      <td>...</td>\n",
              "      <td>...</td>\n",
              "      <td>...</td>\n",
              "      <td>...</td>\n",
              "      <td>...</td>\n",
              "    </tr>\n",
              "    <tr>\n",
              "      <th>95</th>\n",
              "      <td>cc @BEMUI_Official @Leon_Alvinda 😁 https://t.c...</td>\n",
              "      <td>cc   😁</td>\n",
              "      <td>cc 😁</td>\n",
              "      <td>cc</td>\n",
              "      <td>[cc]</td>\n",
              "    </tr>\n",
              "    <tr>\n",
              "      <th>96</th>\n",
              "      <td>Daya kritis @BEMUI_Official dan @YLBHI kok tid...</td>\n",
              "      <td>daya kritis  dan  kok tidak kelihatan di depan...</td>\n",
              "      <td>daya kritis aniesbaswedan terbeli kah daya kri...</td>\n",
              "      <td>daya kritis aniesbaswedan beli kah daya kritis...</td>\n",
              "      <td>[daya, kritis, aniesbaswedan, beli, kah, daya,...</td>\n",
              "    </tr>\n",
              "    <tr>\n",
              "      <th>97</th>\n",
              "      <td>@Rizmaya__ Ini modal BEM ui 2021 untuk jadi ka...</td>\n",
              "      <td>ini modal bem ui  untuk jadi kader pks</td>\n",
              "      <td>modal bem ui kader pks</td>\n",
              "      <td>modal bem ui kader pks</td>\n",
              "      <td>[modal, bem, ui, kader, pks]</td>\n",
              "    </tr>\n",
              "    <tr>\n",
              "      <th>98</th>\n",
              "      <td>@UmarChelsea75 @jokowi @BEMUI_Official Ngomong...</td>\n",
              "      <td>ngomong bukan dari hati dan otaknya  teksny...</td>\n",
              "      <td>ngomong hati otaknya teksnya</td>\n",
              "      <td>ngomong hati otak teks</td>\n",
              "      <td>[ngomong, hati, otak, teks]</td>\n",
              "    </tr>\n",
              "    <tr>\n",
              "      <th>99</th>\n",
              "      <td>@3Cahyono_ @icakdidinding @BEMUI_Official @and...</td>\n",
              "      <td>karena pak presiden minta dikritik ya dikr...</td>\n",
              "      <td>presiden dikritik ya dikritik kangen dikritik ...</td>\n",
              "      <td>presiden kritik ya kritik kangen kritik kangen...</td>\n",
              "      <td>[presiden, kritik, ya, kritik, kangen, kritik,...</td>\n",
              "    </tr>\n",
              "  </tbody>\n",
              "</table>\n",
              "<p>100 rows × 5 columns</p>\n",
              "</div>"
            ],
            "text/plain": [
              "                                              content  ...                                             tokens\n",
              "0   @DivaJaritaKiran @BEMUI_Official @Leon_Alvinda...  ...  [orang, beda, dapat, lo, lo, lo, nama, dungu, ...\n",
              "1   @deditelaumbanu4 @bemui @Leon_Alvinda Mana yg ...  ...  [yg, cumlaudeapa, yg, kau, utk, bangsa, inibik...\n",
              "2   ___ 😛😛😛.....\\n\\nTonton \"Ade Armando Tanggapi K...  ...  [tonton, ade, armando, tanggap, kritik, bem, u...\n",
              "3   @tempodotco Tunggu ntar sbulan lg..apa yg akan...  ...  [tunggu, ntar, sbulan, lgapa, yg, trjadi, bem,...\n",
              "4   Presiden @Jokowi menanggapi kritik Badan Eksek...  ...  [presiden, tanggap, kritik, badan, eksekutif, ...\n",
              "..                                                ...  ...                                                ...\n",
              "95  cc @BEMUI_Official @Leon_Alvinda 😁 https://t.c...  ...                                               [cc]\n",
              "96  Daya kritis @BEMUI_Official dan @YLBHI kok tid...  ...  [daya, kritis, aniesbaswedan, beli, kah, daya,...\n",
              "97  @Rizmaya__ Ini modal BEM ui 2021 untuk jadi ka...  ...                       [modal, bem, ui, kader, pks]\n",
              "98  @UmarChelsea75 @jokowi @BEMUI_Official Ngomong...  ...                        [ngomong, hati, otak, teks]\n",
              "99  @3Cahyono_ @icakdidinding @BEMUI_Official @and...  ...  [presiden, kritik, ya, kritik, kangen, kritik,...\n",
              "\n",
              "[100 rows x 5 columns]"
            ]
          },
          "metadata": {
            "tags": []
          },
          "execution_count": 183
        }
      ]
    },
    {
      "cell_type": "markdown",
      "metadata": {
        "id": "kv-WaxZuBTi1"
      },
      "source": [
        "##Translate to english\n"
      ]
    },
    {
      "cell_type": "code",
      "metadata": {
        "colab": {
          "base_uri": "https://localhost:8080/"
        },
        "id": "aaNY8dPDBUx5",
        "outputId": "94e3eb9b-9085-4c29-a489-ec07bd95e418"
      },
      "source": [
        "!pip install google_trans_new"
      ],
      "execution_count": null,
      "outputs": [
        {
          "output_type": "stream",
          "text": [
            "Requirement already satisfied: google_trans_new in /usr/local/lib/python3.7/dist-packages (1.1.9)\n"
          ],
          "name": "stdout"
        }
      ]
    },
    {
      "cell_type": "code",
      "metadata": {
        "id": "mbOSkjJoB7G-"
      },
      "source": [
        "from google_trans_new import google_translator  \n",
        "\n",
        "translator = google_translator()  "
      ],
      "execution_count": null,
      "outputs": []
    },
    {
      "cell_type": "code",
      "metadata": {
        "id": "ujykYGV-B8rc"
      },
      "source": [
        "def translate_column(text, target_language): #fungsi untuk mentraslate kolom\n",
        "    return translator.translate(text, lang_tgt=target_language) #translate ke dalam bahasa inggris"
      ],
      "execution_count": null,
      "outputs": []
    },
    {
      "cell_type": "code",
      "metadata": {
        "id": "jCZQkzthCZMI"
      },
      "source": [
        "df['clean_english'] = df['clean3'].apply(lambda x: translate_column(x, 'en')) # mentranslate dengan target x, "
      ],
      "execution_count": null,
      "outputs": []
    },
    {
      "cell_type": "code",
      "metadata": {
        "colab": {
          "base_uri": "https://localhost:8080/",
          "height": 752
        },
        "id": "mqJtkQuPDJSz",
        "outputId": "7656c977-37c4-4e0a-f5b5-31ae5a0b9a06"
      },
      "source": [
        "df #kolom clean_english akan dilakukan analisis sentimen"
      ],
      "execution_count": null,
      "outputs": [
        {
          "output_type": "execute_result",
          "data": {
            "text/html": [
              "<div>\n",
              "<style scoped>\n",
              "    .dataframe tbody tr th:only-of-type {\n",
              "        vertical-align: middle;\n",
              "    }\n",
              "\n",
              "    .dataframe tbody tr th {\n",
              "        vertical-align: top;\n",
              "    }\n",
              "\n",
              "    .dataframe thead th {\n",
              "        text-align: right;\n",
              "    }\n",
              "</style>\n",
              "<table border=\"1\" class=\"dataframe\">\n",
              "  <thead>\n",
              "    <tr style=\"text-align: right;\">\n",
              "      <th></th>\n",
              "      <th>content</th>\n",
              "      <th>clean1</th>\n",
              "      <th>clean2</th>\n",
              "      <th>clean3</th>\n",
              "      <th>tokens</th>\n",
              "      <th>clean_english</th>\n",
              "    </tr>\n",
              "  </thead>\n",
              "  <tbody>\n",
              "    <tr>\n",
              "      <th>0</th>\n",
              "      <td>@DivaJaritaKiran @BEMUI_Official @Leon_Alvinda...</td>\n",
              "      <td>ketika orang yang berbeda pendapat sama lo ...</td>\n",
              "      <td>orang berbeda pendapat lo lo lo namanya dungu ...</td>\n",
              "      <td>orang beda dapat lo lo lo nama dungu oon tolol</td>\n",
              "      <td>[orang, beda, dapat, lo, lo, lo, nama, dungu, ...</td>\n",
              "      <td>Different people can you miss the stupid ocean...</td>\n",
              "    </tr>\n",
              "    <tr>\n",
              "      <th>1</th>\n",
              "      <td>@deditelaumbanu4 @bemui @Leon_Alvinda Mana yg ...</td>\n",
              "      <td>mana yg katanya cumlaudeapa yg telah kau bu...</td>\n",
              "      <td>yg cumlaudeapa yg kau utk bangsa inibikin anak...</td>\n",
              "      <td>yg cumlaudeapa yg kau utk bangsa inibikin anak...</td>\n",
              "      <td>[yg, cumlaudeapa, yg, kau, utk, bangsa, inibik...</td>\n",
              "      <td>Who cumlaude what you are for this nation make...</td>\n",
              "    </tr>\n",
              "    <tr>\n",
              "      <th>2</th>\n",
              "      <td>___ 😛😛😛.....\\n\\nTonton \"Ade Armando Tanggapi K...</td>\n",
              "      <td>😛😛😛tonton ade armando tanggapi kritikan bem u...</td>\n",
              "      <td>😛😛😛tonton ade armando tanggapi kritikan bem ui...</td>\n",
              "      <td>tonton ade armando tanggap kritik bem ui presi...</td>\n",
              "      <td>[tonton, ade, armando, tanggap, kritik, bem, u...</td>\n",
              "      <td>Watch Ade Armando Response Criticism of BEM UI...</td>\n",
              "    </tr>\n",
              "    <tr>\n",
              "      <th>3</th>\n",
              "      <td>@tempodotco Tunggu ntar sbulan lg..apa yg akan...</td>\n",
              "      <td>tunggu ntar sbulan lgapa yg akan trjadi sama ...</td>\n",
              "      <td>tunggu ntar sbulan lgapa yg trjadi bem uistlh ...</td>\n",
              "      <td>tunggu ntar sbulan lgapa yg trjadi bem uistlh ...</td>\n",
              "      <td>[tunggu, ntar, sbulan, lgapa, yg, trjadi, bem,...</td>\n",
              "      <td>wait for the one who trjadi bem uistlh b no bn...</td>\n",
              "    </tr>\n",
              "    <tr>\n",
              "      <th>4</th>\n",
              "      <td>Presiden @Jokowi menanggapi kritik Badan Eksek...</td>\n",
              "      <td>presiden  menanggapi kritik badan eksekutif ma...</td>\n",
              "      <td>presiden menanggapi kritik badan eksekutif mah...</td>\n",
              "      <td>presiden tanggap kritik badan eksekutif mahasi...</td>\n",
              "      <td>[presiden, tanggap, kritik, badan, eksekutif, ...</td>\n",
              "      <td>President Regendent for Criticism of the Unive...</td>\n",
              "    </tr>\n",
              "    <tr>\n",
              "      <th>...</th>\n",
              "      <td>...</td>\n",
              "      <td>...</td>\n",
              "      <td>...</td>\n",
              "      <td>...</td>\n",
              "      <td>...</td>\n",
              "      <td>...</td>\n",
              "    </tr>\n",
              "    <tr>\n",
              "      <th>95</th>\n",
              "      <td>cc @BEMUI_Official @Leon_Alvinda 😁 https://t.c...</td>\n",
              "      <td>cc   😁</td>\n",
              "      <td>cc 😁</td>\n",
              "      <td>cc</td>\n",
              "      <td>[cc]</td>\n",
              "      <td>cc</td>\n",
              "    </tr>\n",
              "    <tr>\n",
              "      <th>96</th>\n",
              "      <td>Daya kritis @BEMUI_Official dan @YLBHI kok tid...</td>\n",
              "      <td>daya kritis  dan  kok tidak kelihatan di depan...</td>\n",
              "      <td>daya kritis aniesbaswedan terbeli kah daya kri...</td>\n",
              "      <td>daya kritis aniesbaswedan beli kah daya kritis...</td>\n",
              "      <td>[daya, kritis, aniesbaswedan, beli, kah, daya,...</td>\n",
              "      <td>Critical Power Anies Baswedan Buy Kah Critical...</td>\n",
              "    </tr>\n",
              "    <tr>\n",
              "      <th>97</th>\n",
              "      <td>@Rizmaya__ Ini modal BEM ui 2021 untuk jadi ka...</td>\n",
              "      <td>ini modal bem ui  untuk jadi kader pks</td>\n",
              "      <td>modal bem ui kader pks</td>\n",
              "      <td>modal bem ui kader pks</td>\n",
              "      <td>[modal, bem, ui, kader, pks]</td>\n",
              "      <td>modal well ui kader pks</td>\n",
              "    </tr>\n",
              "    <tr>\n",
              "      <th>98</th>\n",
              "      <td>@UmarChelsea75 @jokowi @BEMUI_Official Ngomong...</td>\n",
              "      <td>ngomong bukan dari hati dan otaknya  teksny...</td>\n",
              "      <td>ngomong hati otaknya teksnya</td>\n",
              "      <td>ngomong hati otak teks</td>\n",
              "      <td>[ngomong, hati, otak, teks]</td>\n",
              "      <td>talking to the text of the text</td>\n",
              "    </tr>\n",
              "    <tr>\n",
              "      <th>99</th>\n",
              "      <td>@3Cahyono_ @icakdidinding @BEMUI_Official @and...</td>\n",
              "      <td>karena pak presiden minta dikritik ya dikr...</td>\n",
              "      <td>presiden dikritik ya dikritik kangen dikritik ...</td>\n",
              "      <td>presiden kritik ya kritik kangen kritik kangen...</td>\n",
              "      <td>[presiden, kritik, ya, kritik, kangen, kritik,...</td>\n",
              "      <td>President of Critique Ya Critique Kangen Criti...</td>\n",
              "    </tr>\n",
              "  </tbody>\n",
              "</table>\n",
              "<p>100 rows × 6 columns</p>\n",
              "</div>"
            ],
            "text/plain": [
              "                                              content  ...                                      clean_english\n",
              "0   @DivaJaritaKiran @BEMUI_Official @Leon_Alvinda...  ...  Different people can you miss the stupid ocean...\n",
              "1   @deditelaumbanu4 @bemui @Leon_Alvinda Mana yg ...  ...  Who cumlaude what you are for this nation make...\n",
              "2   ___ 😛😛😛.....\\n\\nTonton \"Ade Armando Tanggapi K...  ...  Watch Ade Armando Response Criticism of BEM UI...\n",
              "3   @tempodotco Tunggu ntar sbulan lg..apa yg akan...  ...  wait for the one who trjadi bem uistlh b no bn...\n",
              "4   Presiden @Jokowi menanggapi kritik Badan Eksek...  ...  President Regendent for Criticism of the Unive...\n",
              "..                                                ...  ...                                                ...\n",
              "95  cc @BEMUI_Official @Leon_Alvinda 😁 https://t.c...  ...                                                cc \n",
              "96  Daya kritis @BEMUI_Official dan @YLBHI kok tid...  ...  Critical Power Anies Baswedan Buy Kah Critical...\n",
              "97  @Rizmaya__ Ini modal BEM ui 2021 untuk jadi ka...  ...                           modal well ui kader pks \n",
              "98  @UmarChelsea75 @jokowi @BEMUI_Official Ngomong...  ...                   talking to the text of the text \n",
              "99  @3Cahyono_ @icakdidinding @BEMUI_Official @and...  ...  President of Critique Ya Critique Kangen Criti...\n",
              "\n",
              "[100 rows x 6 columns]"
            ]
          },
          "metadata": {
            "tags": []
          },
          "execution_count": 189
        }
      ]
    },
    {
      "cell_type": "code",
      "metadata": {
        "id": "I4x40jLcDMd7"
      },
      "source": [
        "df.to_csv('/content/drive/MyDrive/Colab Notebooks/dataset_bemui_clean_english3.csv', index=None)"
      ],
      "execution_count": null,
      "outputs": []
    },
    {
      "cell_type": "markdown",
      "metadata": {
        "id": "W2cr3nWwE1tf"
      },
      "source": [
        "#Modelling with unsupervised learning & visualization"
      ]
    },
    {
      "cell_type": "code",
      "metadata": {
        "id": "cW1pc8OkjwZb"
      },
      "source": [
        "import pandas as pd"
      ],
      "execution_count": null,
      "outputs": []
    },
    {
      "cell_type": "code",
      "metadata": {
        "id": "A03Kcb9oE506",
        "colab": {
          "base_uri": "https://localhost:8080/",
          "height": 387
        },
        "outputId": "ac7920f6-4420-4092-f79f-96a4e879afd5"
      },
      "source": [
        "df = pd.read_csv('/content/drive/MyDrive/Colab Notebooks/dataset_bemui_clean_english4.csv')\n",
        "df.head()"
      ],
      "execution_count": null,
      "outputs": [
        {
          "output_type": "execute_result",
          "data": {
            "text/html": [
              "<div>\n",
              "<style scoped>\n",
              "    .dataframe tbody tr th:only-of-type {\n",
              "        vertical-align: middle;\n",
              "    }\n",
              "\n",
              "    .dataframe tbody tr th {\n",
              "        vertical-align: top;\n",
              "    }\n",
              "\n",
              "    .dataframe thead th {\n",
              "        text-align: right;\n",
              "    }\n",
              "</style>\n",
              "<table border=\"1\" class=\"dataframe\">\n",
              "  <thead>\n",
              "    <tr style=\"text-align: right;\">\n",
              "      <th></th>\n",
              "      <th>content</th>\n",
              "      <th>clean1</th>\n",
              "      <th>clean2</th>\n",
              "      <th>clean3</th>\n",
              "      <th>tokens</th>\n",
              "      <th>clean_english</th>\n",
              "      <th>label</th>\n",
              "    </tr>\n",
              "  </thead>\n",
              "  <tbody>\n",
              "    <tr>\n",
              "      <th>0</th>\n",
              "      <td>@DivaJaritaKiran @BEMUI_Official @Leon_Alvinda...</td>\n",
              "      <td>ketika orang yang berbeda pendapat sama lo ...</td>\n",
              "      <td>orang berbeda pendapat lo lo lo namanya dungu ...</td>\n",
              "      <td>orang beda dapat lo lo lo nama dungu oon tolol</td>\n",
              "      <td>['orang', 'beda', 'dapat', 'lo', 'lo', 'lo', '...</td>\n",
              "      <td>Different people can you miss the stupid ocean...</td>\n",
              "      <td>negative</td>\n",
              "    </tr>\n",
              "    <tr>\n",
              "      <th>1</th>\n",
              "      <td>@deditelaumbanu4 @bemui @Leon_Alvinda Mana yg ...</td>\n",
              "      <td>mana yg katanya cumlaudeapa yg telah kau bu...</td>\n",
              "      <td>yg cumlaudeapa yg kau utk bangsa inibikin anak...</td>\n",
              "      <td>yg cumlaudeapa yg kau utk bangsa inibikin anak...</td>\n",
              "      <td>['yg', 'cumlaudeapa', 'yg', 'kau', 'utk', 'ban...</td>\n",
              "      <td>Who cumlaude what you are for this nation make...</td>\n",
              "      <td>negative</td>\n",
              "    </tr>\n",
              "    <tr>\n",
              "      <th>2</th>\n",
              "      <td>___ 😛😛😛.....\\n\\nTonton \"Ade Armando Tanggapi K...</td>\n",
              "      <td>😛😛😛tonton ade armando tanggapi kritikan bem u...</td>\n",
              "      <td>😛😛😛tonton ade armando tanggapi kritikan bem ui...</td>\n",
              "      <td>tonton ade armando tanggap kritik bem ui presi...</td>\n",
              "      <td>['tonton', 'ade', 'armando', 'tanggap', 'kriti...</td>\n",
              "      <td>Watch Ade Armando Response Criticism of BEM UI...</td>\n",
              "      <td>negative</td>\n",
              "    </tr>\n",
              "    <tr>\n",
              "      <th>3</th>\n",
              "      <td>@tempodotco Tunggu ntar sbulan lg..apa yg akan...</td>\n",
              "      <td>tunggu ntar sbulan lgapa yg akan trjadi sama ...</td>\n",
              "      <td>tunggu ntar sbulan lgapa yg trjadi bem uistlh ...</td>\n",
              "      <td>tunggu ntar sbulan lgapa yg trjadi bem uistlh ...</td>\n",
              "      <td>['tunggu', 'ntar', 'sbulan', 'lgapa', 'yg', 't...</td>\n",
              "      <td>wait for the one who trjadi bem uistlh b no bn...</td>\n",
              "      <td>negative</td>\n",
              "    </tr>\n",
              "    <tr>\n",
              "      <th>4</th>\n",
              "      <td>Presiden @Jokowi menanggapi kritik Badan Eksek...</td>\n",
              "      <td>presiden  menanggapi kritik badan eksekutif ma...</td>\n",
              "      <td>presiden menanggapi kritik badan eksekutif mah...</td>\n",
              "      <td>presiden tanggap kritik badan eksekutif mahasi...</td>\n",
              "      <td>['presiden', 'tanggap', 'kritik', 'badan', 'ek...</td>\n",
              "      <td>President Regendent for Criticism of the Unive...</td>\n",
              "      <td>negative</td>\n",
              "    </tr>\n",
              "  </tbody>\n",
              "</table>\n",
              "</div>"
            ],
            "text/plain": [
              "                                             content  ...     label\n",
              "0  @DivaJaritaKiran @BEMUI_Official @Leon_Alvinda...  ...  negative\n",
              "1  @deditelaumbanu4 @bemui @Leon_Alvinda Mana yg ...  ...  negative\n",
              "2  ___ 😛😛😛.....\\n\\nTonton \"Ade Armando Tanggapi K...  ...  negative\n",
              "3  @tempodotco Tunggu ntar sbulan lg..apa yg akan...  ...  negative\n",
              "4  Presiden @Jokowi menanggapi kritik Badan Eksek...  ...  negative\n",
              "\n",
              "[5 rows x 7 columns]"
            ]
          },
          "metadata": {
            "tags": []
          },
          "execution_count": 195
        }
      ]
    },
    {
      "cell_type": "code",
      "metadata": {
        "colab": {
          "base_uri": "https://localhost:8080/"
        },
        "id": "hF94KzCSkGbc",
        "outputId": "22e06a20-772a-414a-fb8d-ddcc677fbc85"
      },
      "source": [
        "df.isna().sum()"
      ],
      "execution_count": null,
      "outputs": [
        {
          "output_type": "execute_result",
          "data": {
            "text/plain": [
              "content          0\n",
              "clean1           0\n",
              "clean2           3\n",
              "clean3           5\n",
              "tokens           0\n",
              "clean_english    5\n",
              "label            0\n",
              "dtype: int64"
            ]
          },
          "metadata": {
            "tags": []
          },
          "execution_count": 197
        }
      ]
    },
    {
      "cell_type": "code",
      "metadata": {
        "colab": {
          "base_uri": "https://localhost:8080/"
        },
        "id": "o5nufGBokFo1",
        "outputId": "9f5cb883-bcbd-4dc4-b75a-0279a2149b40"
      },
      "source": [
        "df['label'].value_counts() #menghitung jumlah +-/netral yg telah dibut secara manual"
      ],
      "execution_count": null,
      "outputs": [
        {
          "output_type": "execute_result",
          "data": {
            "text/plain": [
              "positive    41\n",
              "neutral     37\n",
              "negative    22\n",
              "Name: label, dtype: int64"
            ]
          },
          "metadata": {
            "tags": []
          },
          "execution_count": 196
        }
      ]
    },
    {
      "cell_type": "markdown",
      "metadata": {
        "id": "0ZC52zoKsQRK"
      },
      "source": [
        "##Modelling with textblob"
      ]
    },
    {
      "cell_type": "code",
      "metadata": {
        "id": "mYbsv6FrllsE"
      },
      "source": [
        "from textblob import TextBlob"
      ],
      "execution_count": null,
      "outputs": []
    },
    {
      "cell_type": "code",
      "metadata": {
        "id": "oLRLwQkxw-tf"
      },
      "source": [
        "df['clean_english'] = df['clean_english'].astype('str')\n",
        "def get_polarity(text):\n",
        "  return TextBlob(text).sentiment.polarity"
      ],
      "execution_count": null,
      "outputs": []
    },
    {
      "cell_type": "code",
      "metadata": {
        "id": "TfZkxgQMxBWl"
      },
      "source": [
        "df['polarity'] = df['clean_english'].apply(get_polarity)"
      ],
      "execution_count": null,
      "outputs": []
    },
    {
      "cell_type": "code",
      "metadata": {
        "colab": {
          "base_uri": "https://localhost:8080/",
          "height": 820
        },
        "id": "23-CcZvWxDsP",
        "outputId": "77511b1d-b62c-4ca2-ec5b-3b2115c06b3e"
      },
      "source": [
        "df"
      ],
      "execution_count": null,
      "outputs": [
        {
          "output_type": "execute_result",
          "data": {
            "text/html": [
              "<div>\n",
              "<style scoped>\n",
              "    .dataframe tbody tr th:only-of-type {\n",
              "        vertical-align: middle;\n",
              "    }\n",
              "\n",
              "    .dataframe tbody tr th {\n",
              "        vertical-align: top;\n",
              "    }\n",
              "\n",
              "    .dataframe thead th {\n",
              "        text-align: right;\n",
              "    }\n",
              "</style>\n",
              "<table border=\"1\" class=\"dataframe\">\n",
              "  <thead>\n",
              "    <tr style=\"text-align: right;\">\n",
              "      <th></th>\n",
              "      <th>content</th>\n",
              "      <th>clean1</th>\n",
              "      <th>clean2</th>\n",
              "      <th>clean3</th>\n",
              "      <th>tokens</th>\n",
              "      <th>clean_english</th>\n",
              "      <th>label</th>\n",
              "      <th>polarity</th>\n",
              "    </tr>\n",
              "  </thead>\n",
              "  <tbody>\n",
              "    <tr>\n",
              "      <th>0</th>\n",
              "      <td>@DivaJaritaKiran @BEMUI_Official @Leon_Alvinda...</td>\n",
              "      <td>ketika orang yang berbeda pendapat sama lo ...</td>\n",
              "      <td>orang berbeda pendapat lo lo lo namanya dungu ...</td>\n",
              "      <td>orang beda dapat lo lo lo nama dungu oon tolol</td>\n",
              "      <td>['orang', 'beda', 'dapat', 'lo', 'lo', 'lo', '...</td>\n",
              "      <td>Different people can you miss the stupid ocean...</td>\n",
              "      <td>negative</td>\n",
              "      <td>-0.400000</td>\n",
              "    </tr>\n",
              "    <tr>\n",
              "      <th>1</th>\n",
              "      <td>@deditelaumbanu4 @bemui @Leon_Alvinda Mana yg ...</td>\n",
              "      <td>mana yg katanya cumlaudeapa yg telah kau bu...</td>\n",
              "      <td>yg cumlaudeapa yg kau utk bangsa inibikin anak...</td>\n",
              "      <td>yg cumlaudeapa yg kau utk bangsa inibikin anak...</td>\n",
              "      <td>['yg', 'cumlaudeapa', 'yg', 'kau', 'utk', 'ban...</td>\n",
              "      <td>Who cumlaude what you are for this nation make...</td>\n",
              "      <td>negative</td>\n",
              "      <td>0.000000</td>\n",
              "    </tr>\n",
              "    <tr>\n",
              "      <th>2</th>\n",
              "      <td>___ 😛😛😛.....\\n\\nTonton \"Ade Armando Tanggapi K...</td>\n",
              "      <td>😛😛😛tonton ade armando tanggapi kritikan bem u...</td>\n",
              "      <td>😛😛😛tonton ade armando tanggapi kritikan bem ui...</td>\n",
              "      <td>tonton ade armando tanggap kritik bem ui presi...</td>\n",
              "      <td>['tonton', 'ade', 'armando', 'tanggap', 'kriti...</td>\n",
              "      <td>Watch Ade Armando Response Criticism of BEM UI...</td>\n",
              "      <td>negative</td>\n",
              "      <td>-0.333333</td>\n",
              "    </tr>\n",
              "    <tr>\n",
              "      <th>3</th>\n",
              "      <td>@tempodotco Tunggu ntar sbulan lg..apa yg akan...</td>\n",
              "      <td>tunggu ntar sbulan lgapa yg akan trjadi sama ...</td>\n",
              "      <td>tunggu ntar sbulan lgapa yg trjadi bem uistlh ...</td>\n",
              "      <td>tunggu ntar sbulan lgapa yg trjadi bem uistlh ...</td>\n",
              "      <td>['tunggu', 'ntar', 'sbulan', 'lgapa', 'yg', 't...</td>\n",
              "      <td>wait for the one who trjadi bem uistlh b no bn...</td>\n",
              "      <td>negative</td>\n",
              "      <td>0.000000</td>\n",
              "    </tr>\n",
              "    <tr>\n",
              "      <th>4</th>\n",
              "      <td>Presiden @Jokowi menanggapi kritik Badan Eksek...</td>\n",
              "      <td>presiden  menanggapi kritik badan eksekutif ma...</td>\n",
              "      <td>presiden menanggapi kritik badan eksekutif mah...</td>\n",
              "      <td>presiden tanggap kritik badan eksekutif mahasi...</td>\n",
              "      <td>['presiden', 'tanggap', 'kritik', 'badan', 'ek...</td>\n",
              "      <td>President Regendent for Criticism of the Unive...</td>\n",
              "      <td>negative</td>\n",
              "      <td>0.000000</td>\n",
              "    </tr>\n",
              "    <tr>\n",
              "      <th>...</th>\n",
              "      <td>...</td>\n",
              "      <td>...</td>\n",
              "      <td>...</td>\n",
              "      <td>...</td>\n",
              "      <td>...</td>\n",
              "      <td>...</td>\n",
              "      <td>...</td>\n",
              "      <td>...</td>\n",
              "    </tr>\n",
              "    <tr>\n",
              "      <th>95</th>\n",
              "      <td>cc @BEMUI_Official @Leon_Alvinda 😁 https://t.c...</td>\n",
              "      <td>cc   😁</td>\n",
              "      <td>cc 😁</td>\n",
              "      <td>cc</td>\n",
              "      <td>['cc']</td>\n",
              "      <td>cc</td>\n",
              "      <td>positive</td>\n",
              "      <td>0.000000</td>\n",
              "    </tr>\n",
              "    <tr>\n",
              "      <th>96</th>\n",
              "      <td>Daya kritis @BEMUI_Official dan @YLBHI kok tid...</td>\n",
              "      <td>daya kritis  dan  kok tidak kelihatan di depan...</td>\n",
              "      <td>daya kritis aniesbaswedan terbeli kah daya kri...</td>\n",
              "      <td>daya kritis aniesbaswedan beli kah daya kritis...</td>\n",
              "      <td>['daya', 'kritis', 'aniesbaswedan', 'beli', 'k...</td>\n",
              "      <td>Critical Power Anies Baswedan Buy Kah Critical...</td>\n",
              "      <td>positive</td>\n",
              "      <td>0.000000</td>\n",
              "    </tr>\n",
              "    <tr>\n",
              "      <th>97</th>\n",
              "      <td>@Rizmaya__ Ini modal BEM ui 2021 untuk jadi ka...</td>\n",
              "      <td>ini modal bem ui  untuk jadi kader pks</td>\n",
              "      <td>modal bem ui kader pks</td>\n",
              "      <td>modal bem ui kader pks</td>\n",
              "      <td>['modal', 'bem', 'ui', 'kader', 'pks']</td>\n",
              "      <td>modal well ui kader pks</td>\n",
              "      <td>positive</td>\n",
              "      <td>0.000000</td>\n",
              "    </tr>\n",
              "    <tr>\n",
              "      <th>98</th>\n",
              "      <td>@UmarChelsea75 @jokowi @BEMUI_Official Ngomong...</td>\n",
              "      <td>ngomong bukan dari hati dan otaknya  teksny...</td>\n",
              "      <td>ngomong hati otaknya teksnya</td>\n",
              "      <td>ngomong hati otak teks</td>\n",
              "      <td>['ngomong', 'hati', 'otak', 'teks']</td>\n",
              "      <td>talking to the text of the text</td>\n",
              "      <td>positive</td>\n",
              "      <td>0.000000</td>\n",
              "    </tr>\n",
              "    <tr>\n",
              "      <th>99</th>\n",
              "      <td>@3Cahyono_ @icakdidinding @BEMUI_Official @and...</td>\n",
              "      <td>karena pak presiden minta dikritik ya dikr...</td>\n",
              "      <td>presiden dikritik ya dikritik kangen dikritik ...</td>\n",
              "      <td>presiden kritik ya kritik kangen kritik kangen...</td>\n",
              "      <td>['presiden', 'kritik', 'ya', 'kritik', 'kangen...</td>\n",
              "      <td>President of Critique Ya Critique Kangen Criti...</td>\n",
              "      <td>positive</td>\n",
              "      <td>0.000000</td>\n",
              "    </tr>\n",
              "  </tbody>\n",
              "</table>\n",
              "<p>100 rows × 8 columns</p>\n",
              "</div>"
            ],
            "text/plain": [
              "                                              content  ...  polarity\n",
              "0   @DivaJaritaKiran @BEMUI_Official @Leon_Alvinda...  ... -0.400000\n",
              "1   @deditelaumbanu4 @bemui @Leon_Alvinda Mana yg ...  ...  0.000000\n",
              "2   ___ 😛😛😛.....\\n\\nTonton \"Ade Armando Tanggapi K...  ... -0.333333\n",
              "3   @tempodotco Tunggu ntar sbulan lg..apa yg akan...  ...  0.000000\n",
              "4   Presiden @Jokowi menanggapi kritik Badan Eksek...  ...  0.000000\n",
              "..                                                ...  ...       ...\n",
              "95  cc @BEMUI_Official @Leon_Alvinda 😁 https://t.c...  ...  0.000000\n",
              "96  Daya kritis @BEMUI_Official dan @YLBHI kok tid...  ...  0.000000\n",
              "97  @Rizmaya__ Ini modal BEM ui 2021 untuk jadi ka...  ...  0.000000\n",
              "98  @UmarChelsea75 @jokowi @BEMUI_Official Ngomong...  ...  0.000000\n",
              "99  @3Cahyono_ @icakdidinding @BEMUI_Official @and...  ...  0.000000\n",
              "\n",
              "[100 rows x 8 columns]"
            ]
          },
          "metadata": {
            "tags": []
          },
          "execution_count": 201
        }
      ]
    },
    {
      "cell_type": "code",
      "metadata": {
        "id": "1mvfFKOExIXd"
      },
      "source": [
        "df['sentimen_textblob']=''\n",
        "df.loc[df.polarity>0,'sentimen_textblob']='positive'\n",
        "df.loc[df.polarity==0,'sentimen_textblob']='neutral'\n",
        "df.loc[df.polarity<0,'sentimen_textblob']='negative' #ejaan positif netral dan negatif harus sama dengan ejaan yang sebelumnya sudah dibuat pada kolom label"
      ],
      "execution_count": null,
      "outputs": []
    },
    {
      "cell_type": "code",
      "metadata": {
        "colab": {
          "base_uri": "https://localhost:8080/",
          "height": 973
        },
        "id": "SVcmLfAPxLJW",
        "outputId": "c861d367-2915-41bd-ad00-0072d26a4a14"
      },
      "source": [
        "df"
      ],
      "execution_count": null,
      "outputs": [
        {
          "output_type": "execute_result",
          "data": {
            "text/html": [
              "<div>\n",
              "<style scoped>\n",
              "    .dataframe tbody tr th:only-of-type {\n",
              "        vertical-align: middle;\n",
              "    }\n",
              "\n",
              "    .dataframe tbody tr th {\n",
              "        vertical-align: top;\n",
              "    }\n",
              "\n",
              "    .dataframe thead th {\n",
              "        text-align: right;\n",
              "    }\n",
              "</style>\n",
              "<table border=\"1\" class=\"dataframe\">\n",
              "  <thead>\n",
              "    <tr style=\"text-align: right;\">\n",
              "      <th></th>\n",
              "      <th>content</th>\n",
              "      <th>clean1</th>\n",
              "      <th>clean2</th>\n",
              "      <th>clean3</th>\n",
              "      <th>tokens</th>\n",
              "      <th>clean_english</th>\n",
              "      <th>label</th>\n",
              "      <th>polarity</th>\n",
              "      <th>sentimen_textblob</th>\n",
              "    </tr>\n",
              "  </thead>\n",
              "  <tbody>\n",
              "    <tr>\n",
              "      <th>0</th>\n",
              "      <td>@DivaJaritaKiran @BEMUI_Official @Leon_Alvinda...</td>\n",
              "      <td>ketika orang yang berbeda pendapat sama lo ...</td>\n",
              "      <td>orang berbeda pendapat lo lo lo namanya dungu ...</td>\n",
              "      <td>orang beda dapat lo lo lo nama dungu oon tolol</td>\n",
              "      <td>['orang', 'beda', 'dapat', 'lo', 'lo', 'lo', '...</td>\n",
              "      <td>Different people can you miss the stupid ocean...</td>\n",
              "      <td>negative</td>\n",
              "      <td>-0.400000</td>\n",
              "      <td>negative</td>\n",
              "    </tr>\n",
              "    <tr>\n",
              "      <th>1</th>\n",
              "      <td>@deditelaumbanu4 @bemui @Leon_Alvinda Mana yg ...</td>\n",
              "      <td>mana yg katanya cumlaudeapa yg telah kau bu...</td>\n",
              "      <td>yg cumlaudeapa yg kau utk bangsa inibikin anak...</td>\n",
              "      <td>yg cumlaudeapa yg kau utk bangsa inibikin anak...</td>\n",
              "      <td>['yg', 'cumlaudeapa', 'yg', 'kau', 'utk', 'ban...</td>\n",
              "      <td>Who cumlaude what you are for this nation make...</td>\n",
              "      <td>negative</td>\n",
              "      <td>0.000000</td>\n",
              "      <td>neutral</td>\n",
              "    </tr>\n",
              "    <tr>\n",
              "      <th>2</th>\n",
              "      <td>___ 😛😛😛.....\\n\\nTonton \"Ade Armando Tanggapi K...</td>\n",
              "      <td>😛😛😛tonton ade armando tanggapi kritikan bem u...</td>\n",
              "      <td>😛😛😛tonton ade armando tanggapi kritikan bem ui...</td>\n",
              "      <td>tonton ade armando tanggap kritik bem ui presi...</td>\n",
              "      <td>['tonton', 'ade', 'armando', 'tanggap', 'kriti...</td>\n",
              "      <td>Watch Ade Armando Response Criticism of BEM UI...</td>\n",
              "      <td>negative</td>\n",
              "      <td>-0.333333</td>\n",
              "      <td>negative</td>\n",
              "    </tr>\n",
              "    <tr>\n",
              "      <th>3</th>\n",
              "      <td>@tempodotco Tunggu ntar sbulan lg..apa yg akan...</td>\n",
              "      <td>tunggu ntar sbulan lgapa yg akan trjadi sama ...</td>\n",
              "      <td>tunggu ntar sbulan lgapa yg trjadi bem uistlh ...</td>\n",
              "      <td>tunggu ntar sbulan lgapa yg trjadi bem uistlh ...</td>\n",
              "      <td>['tunggu', 'ntar', 'sbulan', 'lgapa', 'yg', 't...</td>\n",
              "      <td>wait for the one who trjadi bem uistlh b no bn...</td>\n",
              "      <td>negative</td>\n",
              "      <td>0.000000</td>\n",
              "      <td>neutral</td>\n",
              "    </tr>\n",
              "    <tr>\n",
              "      <th>4</th>\n",
              "      <td>Presiden @Jokowi menanggapi kritik Badan Eksek...</td>\n",
              "      <td>presiden  menanggapi kritik badan eksekutif ma...</td>\n",
              "      <td>presiden menanggapi kritik badan eksekutif mah...</td>\n",
              "      <td>presiden tanggap kritik badan eksekutif mahasi...</td>\n",
              "      <td>['presiden', 'tanggap', 'kritik', 'badan', 'ek...</td>\n",
              "      <td>President Regendent for Criticism of the Unive...</td>\n",
              "      <td>negative</td>\n",
              "      <td>0.000000</td>\n",
              "      <td>neutral</td>\n",
              "    </tr>\n",
              "    <tr>\n",
              "      <th>...</th>\n",
              "      <td>...</td>\n",
              "      <td>...</td>\n",
              "      <td>...</td>\n",
              "      <td>...</td>\n",
              "      <td>...</td>\n",
              "      <td>...</td>\n",
              "      <td>...</td>\n",
              "      <td>...</td>\n",
              "      <td>...</td>\n",
              "    </tr>\n",
              "    <tr>\n",
              "      <th>95</th>\n",
              "      <td>cc @BEMUI_Official @Leon_Alvinda 😁 https://t.c...</td>\n",
              "      <td>cc   😁</td>\n",
              "      <td>cc 😁</td>\n",
              "      <td>cc</td>\n",
              "      <td>['cc']</td>\n",
              "      <td>cc</td>\n",
              "      <td>positive</td>\n",
              "      <td>0.000000</td>\n",
              "      <td>neutral</td>\n",
              "    </tr>\n",
              "    <tr>\n",
              "      <th>96</th>\n",
              "      <td>Daya kritis @BEMUI_Official dan @YLBHI kok tid...</td>\n",
              "      <td>daya kritis  dan  kok tidak kelihatan di depan...</td>\n",
              "      <td>daya kritis aniesbaswedan terbeli kah daya kri...</td>\n",
              "      <td>daya kritis aniesbaswedan beli kah daya kritis...</td>\n",
              "      <td>['daya', 'kritis', 'aniesbaswedan', 'beli', 'k...</td>\n",
              "      <td>Critical Power Anies Baswedan Buy Kah Critical...</td>\n",
              "      <td>positive</td>\n",
              "      <td>0.000000</td>\n",
              "      <td>neutral</td>\n",
              "    </tr>\n",
              "    <tr>\n",
              "      <th>97</th>\n",
              "      <td>@Rizmaya__ Ini modal BEM ui 2021 untuk jadi ka...</td>\n",
              "      <td>ini modal bem ui  untuk jadi kader pks</td>\n",
              "      <td>modal bem ui kader pks</td>\n",
              "      <td>modal bem ui kader pks</td>\n",
              "      <td>['modal', 'bem', 'ui', 'kader', 'pks']</td>\n",
              "      <td>modal well ui kader pks</td>\n",
              "      <td>positive</td>\n",
              "      <td>0.000000</td>\n",
              "      <td>neutral</td>\n",
              "    </tr>\n",
              "    <tr>\n",
              "      <th>98</th>\n",
              "      <td>@UmarChelsea75 @jokowi @BEMUI_Official Ngomong...</td>\n",
              "      <td>ngomong bukan dari hati dan otaknya  teksny...</td>\n",
              "      <td>ngomong hati otaknya teksnya</td>\n",
              "      <td>ngomong hati otak teks</td>\n",
              "      <td>['ngomong', 'hati', 'otak', 'teks']</td>\n",
              "      <td>talking to the text of the text</td>\n",
              "      <td>positive</td>\n",
              "      <td>0.000000</td>\n",
              "      <td>neutral</td>\n",
              "    </tr>\n",
              "    <tr>\n",
              "      <th>99</th>\n",
              "      <td>@3Cahyono_ @icakdidinding @BEMUI_Official @and...</td>\n",
              "      <td>karena pak presiden minta dikritik ya dikr...</td>\n",
              "      <td>presiden dikritik ya dikritik kangen dikritik ...</td>\n",
              "      <td>presiden kritik ya kritik kangen kritik kangen...</td>\n",
              "      <td>['presiden', 'kritik', 'ya', 'kritik', 'kangen...</td>\n",
              "      <td>President of Critique Ya Critique Kangen Criti...</td>\n",
              "      <td>positive</td>\n",
              "      <td>0.000000</td>\n",
              "      <td>neutral</td>\n",
              "    </tr>\n",
              "  </tbody>\n",
              "</table>\n",
              "<p>100 rows × 9 columns</p>\n",
              "</div>"
            ],
            "text/plain": [
              "                                              content  ... sentimen_textblob\n",
              "0   @DivaJaritaKiran @BEMUI_Official @Leon_Alvinda...  ...          negative\n",
              "1   @deditelaumbanu4 @bemui @Leon_Alvinda Mana yg ...  ...           neutral\n",
              "2   ___ 😛😛😛.....\\n\\nTonton \"Ade Armando Tanggapi K...  ...          negative\n",
              "3   @tempodotco Tunggu ntar sbulan lg..apa yg akan...  ...           neutral\n",
              "4   Presiden @Jokowi menanggapi kritik Badan Eksek...  ...           neutral\n",
              "..                                                ...  ...               ...\n",
              "95  cc @BEMUI_Official @Leon_Alvinda 😁 https://t.c...  ...           neutral\n",
              "96  Daya kritis @BEMUI_Official dan @YLBHI kok tid...  ...           neutral\n",
              "97  @Rizmaya__ Ini modal BEM ui 2021 untuk jadi ka...  ...           neutral\n",
              "98  @UmarChelsea75 @jokowi @BEMUI_Official Ngomong...  ...           neutral\n",
              "99  @3Cahyono_ @icakdidinding @BEMUI_Official @and...  ...           neutral\n",
              "\n",
              "[100 rows x 9 columns]"
            ]
          },
          "metadata": {
            "tags": []
          },
          "execution_count": 203
        }
      ]
    },
    {
      "cell_type": "code",
      "metadata": {
        "colab": {
          "base_uri": "https://localhost:8080/"
        },
        "id": "-xpHUo8RxPal",
        "outputId": "9a97f471-ddf7-4aa0-f535-fd24d383a2b7"
      },
      "source": [
        "df['sentimen_textblob'].value_counts() #mengetahui jumlah negative positif dan neutral pada kolom sentiment_+textblob"
      ],
      "execution_count": null,
      "outputs": [
        {
          "output_type": "execute_result",
          "data": {
            "text/plain": [
              "neutral     60\n",
              "positive    27\n",
              "negative    13\n",
              "Name: sentimen_textblob, dtype: int64"
            ]
          },
          "metadata": {
            "tags": []
          },
          "execution_count": 204
        }
      ]
    },
    {
      "cell_type": "code",
      "metadata": {
        "colab": {
          "base_uri": "https://localhost:8080/"
        },
        "id": "b8yJ88GKxbia",
        "outputId": "dd3c7189-1750-4c4f-f00d-0bc334173130"
      },
      "source": [
        "df['label'].value_counts() #bandingkan dengan yang textblob"
      ],
      "execution_count": null,
      "outputs": [
        {
          "output_type": "execute_result",
          "data": {
            "text/plain": [
              "positive    41\n",
              "neutral     37\n",
              "negative    22\n",
              "Name: label, dtype: int64"
            ]
          },
          "metadata": {
            "tags": []
          },
          "execution_count": 205
        }
      ]
    },
    {
      "cell_type": "code",
      "metadata": {
        "colab": {
          "base_uri": "https://localhost:8080/",
          "height": 332
        },
        "id": "iAeuDxlpxgKM",
        "outputId": "f3c213e3-948c-4064-8257-5fed5c11aa4b"
      },
      "source": [
        "df.sentimen_textblob.value_counts().plot(kind='bar',title=\"Sentiment Analysis with Textblob\") #visualisasi sentiment_textblob"
      ],
      "execution_count": null,
      "outputs": [
        {
          "output_type": "execute_result",
          "data": {
            "text/plain": [
              "<matplotlib.axes._subplots.AxesSubplot at 0x7f3e52567d90>"
            ]
          },
          "metadata": {
            "tags": []
          },
          "execution_count": 206
        },
        {
          "output_type": "display_data",
          "data": {
            "image/png": "[encoded data removed]",
            "text/plain": [
              "<Figure size 432x288 with 1 Axes>"
            ]
          },
          "metadata": {
            "tags": [],
            "needs_background": "light"
          }
        }
      ]
    },
    {
      "cell_type": "code",
      "metadata": {
        "colab": {
          "base_uri": "https://localhost:8080/",
          "height": 281
        },
        "id": "HiMg0Yc1xhSy",
        "outputId": "0584ba4a-357f-466d-f46a-61a5478bd7d7"
      },
      "source": [
        "df.sentimen_textblob.value_counts().plot(kind='pie',title=\"Sentiment Analysis with Textblob\") #visualisasi sentimen_textblob"
      ],
      "execution_count": null,
      "outputs": [
        {
          "output_type": "execute_result",
          "data": {
            "text/plain": [
              "<matplotlib.axes._subplots.AxesSubplot at 0x7f3e524f0e50>"
            ]
          },
          "metadata": {
            "tags": []
          },
          "execution_count": 207
        },
        {
          "output_type": "display_data",
          "data": {
            "image/png": "[encoded data removed]",
            "text/plain": [
              "<Figure size 432x288 with 1 Axes>"
            ]
          },
          "metadata": {
            "tags": []
          }
        }
      ]
    },
    {
      "cell_type": "code",
      "metadata": {
        "id": "7z170tYvyea9"
      },
      "source": [
        "df.to_csv('/content/drive/MyDrive/Colab Notebooks/sentimen_textblobbemui.csv', index=None)"
      ],
      "execution_count": null,
      "outputs": []
    },
    {
      "cell_type": "markdown",
      "metadata": {
        "id": "DSbA0KrrxxE7"
      },
      "source": [
        "##Modelling with vader"
      ]
    },
    {
      "cell_type": "code",
      "metadata": {
        "id": "ORQ5RL6Ux0q2"
      },
      "source": [
        "from nltk.sentiment.vader import SentimentIntensityAnalyzer \n",
        "from nltk.sentiment.util import * #memanggil semua fungsi yang ada dalam sentiment util"
      ],
      "execution_count": null,
      "outputs": []
    },
    {
      "cell_type": "code",
      "metadata": {
        "colab": {
          "base_uri": "https://localhost:8080/"
        },
        "id": "h0q0krtIx3M7",
        "outputId": "097e8b21-e282-4850-8b3d-a7a81539eb61"
      },
      "source": [
        "import nltk\n",
        "nltk.download('vader_lexicon')\n",
        "from nltk.sentiment.vader import SentimentIntensityAnalyzer\n",
        "sid = SentimentIntensityAnalyzer() #membuat alias untunk sentimenintesityanalyzer"
      ],
      "execution_count": null,
      "outputs": [
        {
          "output_type": "stream",
          "text": [
            "[nltk_data] Downloading package vader_lexicon to /root/nltk_data...\n",
            "[nltk_data]   Package vader_lexicon is already up-to-date!\n"
          ],
          "name": "stdout"
        }
      ]
    },
    {
      "cell_type": "code",
      "metadata": {
        "colab": {
          "base_uri": "https://localhost:8080/",
          "height": 1000
        },
        "id": "TfIDQvKpx4-2",
        "outputId": "312a2b00-65ed-4523-d007-671dd485f7d4"
      },
      "source": [
        "df['scores'] = df['clean_english'].apply(lambda new_text: sid.polarity_scores(new_text)) #memanngil polarity, memanggilparameter new text\n",
        "df"
      ],
      "execution_count": null,
      "outputs": [
        {
          "output_type": "execute_result",
          "data": {
            "text/html": [
              "<div>\n",
              "<style scoped>\n",
              "    .dataframe tbody tr th:only-of-type {\n",
              "        vertical-align: middle;\n",
              "    }\n",
              "\n",
              "    .dataframe tbody tr th {\n",
              "        vertical-align: top;\n",
              "    }\n",
              "\n",
              "    .dataframe thead th {\n",
              "        text-align: right;\n",
              "    }\n",
              "</style>\n",
              "<table border=\"1\" class=\"dataframe\">\n",
              "  <thead>\n",
              "    <tr style=\"text-align: right;\">\n",
              "      <th></th>\n",
              "      <th>content</th>\n",
              "      <th>clean1</th>\n",
              "      <th>clean2</th>\n",
              "      <th>clean3</th>\n",
              "      <th>tokens</th>\n",
              "      <th>clean_english</th>\n",
              "      <th>label</th>\n",
              "      <th>polarity</th>\n",
              "      <th>sentimen_textblob</th>\n",
              "      <th>scores</th>\n",
              "    </tr>\n",
              "  </thead>\n",
              "  <tbody>\n",
              "    <tr>\n",
              "      <th>0</th>\n",
              "      <td>@DivaJaritaKiran @BEMUI_Official @Leon_Alvinda...</td>\n",
              "      <td>ketika orang yang berbeda pendapat sama lo ...</td>\n",
              "      <td>orang berbeda pendapat lo lo lo namanya dungu ...</td>\n",
              "      <td>orang beda dapat lo lo lo nama dungu oon tolol</td>\n",
              "      <td>['orang', 'beda', 'dapat', 'lo', 'lo', 'lo', '...</td>\n",
              "      <td>Different people can you miss the stupid ocean...</td>\n",
              "      <td>negative</td>\n",
              "      <td>-0.400000</td>\n",
              "      <td>negative</td>\n",
              "      <td>{'neg': 0.417, 'neu': 0.583, 'pos': 0.0, 'comp...</td>\n",
              "    </tr>\n",
              "    <tr>\n",
              "      <th>1</th>\n",
              "      <td>@deditelaumbanu4 @bemui @Leon_Alvinda Mana yg ...</td>\n",
              "      <td>mana yg katanya cumlaudeapa yg telah kau bu...</td>\n",
              "      <td>yg cumlaudeapa yg kau utk bangsa inibikin anak...</td>\n",
              "      <td>yg cumlaudeapa yg kau utk bangsa inibikin anak...</td>\n",
              "      <td>['yg', 'cumlaudeapa', 'yg', 'kau', 'utk', 'ban...</td>\n",
              "      <td>Who cumlaude what you are for this nation make...</td>\n",
              "      <td>negative</td>\n",
              "      <td>0.000000</td>\n",
              "      <td>neutral</td>\n",
              "      <td>{'neg': 0.116, 'neu': 0.884, 'pos': 0.0, 'comp...</td>\n",
              "    </tr>\n",
              "    <tr>\n",
              "      <th>2</th>\n",
              "      <td>___ 😛😛😛.....\\n\\nTonton \"Ade Armando Tanggapi K...</td>\n",
              "      <td>😛😛😛tonton ade armando tanggapi kritikan bem u...</td>\n",
              "      <td>😛😛😛tonton ade armando tanggapi kritikan bem ui...</td>\n",
              "      <td>tonton ade armando tanggap kritik bem ui presi...</td>\n",
              "      <td>['tonton', 'ade', 'armando', 'tanggap', 'kriti...</td>\n",
              "      <td>Watch Ade Armando Response Criticism of BEM UI...</td>\n",
              "      <td>negative</td>\n",
              "      <td>-0.333333</td>\n",
              "      <td>negative</td>\n",
              "      <td>{'neg': 0.209, 'neu': 0.791, 'pos': 0.0, 'comp...</td>\n",
              "    </tr>\n",
              "    <tr>\n",
              "      <th>3</th>\n",
              "      <td>@tempodotco Tunggu ntar sbulan lg..apa yg akan...</td>\n",
              "      <td>tunggu ntar sbulan lgapa yg akan trjadi sama ...</td>\n",
              "      <td>tunggu ntar sbulan lgapa yg trjadi bem uistlh ...</td>\n",
              "      <td>tunggu ntar sbulan lgapa yg trjadi bem uistlh ...</td>\n",
              "      <td>['tunggu', 'ntar', 'sbulan', 'lgapa', 'yg', 't...</td>\n",
              "      <td>wait for the one who trjadi bem uistlh b no bn...</td>\n",
              "      <td>negative</td>\n",
              "      <td>0.000000</td>\n",
              "      <td>neutral</td>\n",
              "      <td>{'neg': 0.167, 'neu': 0.833, 'pos': 0.0, 'comp...</td>\n",
              "    </tr>\n",
              "    <tr>\n",
              "      <th>4</th>\n",
              "      <td>Presiden @Jokowi menanggapi kritik Badan Eksek...</td>\n",
              "      <td>presiden  menanggapi kritik badan eksekutif ma...</td>\n",
              "      <td>presiden menanggapi kritik badan eksekutif mah...</td>\n",
              "      <td>presiden tanggap kritik badan eksekutif mahasi...</td>\n",
              "      <td>['presiden', 'tanggap', 'kritik', 'badan', 'ek...</td>\n",
              "      <td>President Regendent for Criticism of the Unive...</td>\n",
              "      <td>negative</td>\n",
              "      <td>0.000000</td>\n",
              "      <td>neutral</td>\n",
              "      <td>{'neg': 0.172, 'neu': 0.828, 'pos': 0.0, 'comp...</td>\n",
              "    </tr>\n",
              "    <tr>\n",
              "      <th>...</th>\n",
              "      <td>...</td>\n",
              "      <td>...</td>\n",
              "      <td>...</td>\n",
              "      <td>...</td>\n",
              "      <td>...</td>\n",
              "      <td>...</td>\n",
              "      <td>...</td>\n",
              "      <td>...</td>\n",
              "      <td>...</td>\n",
              "      <td>...</td>\n",
              "    </tr>\n",
              "    <tr>\n",
              "      <th>95</th>\n",
              "      <td>cc @BEMUI_Official @Leon_Alvinda 😁 https://t.c...</td>\n",
              "      <td>cc   😁</td>\n",
              "      <td>cc 😁</td>\n",
              "      <td>cc</td>\n",
              "      <td>['cc']</td>\n",
              "      <td>cc</td>\n",
              "      <td>positive</td>\n",
              "      <td>0.000000</td>\n",
              "      <td>neutral</td>\n",
              "      <td>{'neg': 0.0, 'neu': 1.0, 'pos': 0.0, 'compound...</td>\n",
              "    </tr>\n",
              "    <tr>\n",
              "      <th>96</th>\n",
              "      <td>Daya kritis @BEMUI_Official dan @YLBHI kok tid...</td>\n",
              "      <td>daya kritis  dan  kok tidak kelihatan di depan...</td>\n",
              "      <td>daya kritis aniesbaswedan terbeli kah daya kri...</td>\n",
              "      <td>daya kritis aniesbaswedan beli kah daya kritis...</td>\n",
              "      <td>['daya', 'kritis', 'aniesbaswedan', 'beli', 'k...</td>\n",
              "      <td>Critical Power Anies Baswedan Buy Kah Critical...</td>\n",
              "      <td>positive</td>\n",
              "      <td>0.000000</td>\n",
              "      <td>neutral</td>\n",
              "      <td>{'neg': 0.397, 'neu': 0.603, 'pos': 0.0, 'comp...</td>\n",
              "    </tr>\n",
              "    <tr>\n",
              "      <th>97</th>\n",
              "      <td>@Rizmaya__ Ini modal BEM ui 2021 untuk jadi ka...</td>\n",
              "      <td>ini modal bem ui  untuk jadi kader pks</td>\n",
              "      <td>modal bem ui kader pks</td>\n",
              "      <td>modal bem ui kader pks</td>\n",
              "      <td>['modal', 'bem', 'ui', 'kader', 'pks']</td>\n",
              "      <td>modal well ui kader pks</td>\n",
              "      <td>positive</td>\n",
              "      <td>0.000000</td>\n",
              "      <td>neutral</td>\n",
              "      <td>{'neg': 0.0, 'neu': 0.656, 'pos': 0.344, 'comp...</td>\n",
              "    </tr>\n",
              "    <tr>\n",
              "      <th>98</th>\n",
              "      <td>@UmarChelsea75 @jokowi @BEMUI_Official Ngomong...</td>\n",
              "      <td>ngomong bukan dari hati dan otaknya  teksny...</td>\n",
              "      <td>ngomong hati otaknya teksnya</td>\n",
              "      <td>ngomong hati otak teks</td>\n",
              "      <td>['ngomong', 'hati', 'otak', 'teks']</td>\n",
              "      <td>talking to the text of the text</td>\n",
              "      <td>positive</td>\n",
              "      <td>0.000000</td>\n",
              "      <td>neutral</td>\n",
              "      <td>{'neg': 0.0, 'neu': 1.0, 'pos': 0.0, 'compound...</td>\n",
              "    </tr>\n",
              "    <tr>\n",
              "      <th>99</th>\n",
              "      <td>@3Cahyono_ @icakdidinding @BEMUI_Official @and...</td>\n",
              "      <td>karena pak presiden minta dikritik ya dikr...</td>\n",
              "      <td>presiden dikritik ya dikritik kangen dikritik ...</td>\n",
              "      <td>presiden kritik ya kritik kangen kritik kangen...</td>\n",
              "      <td>['presiden', 'kritik', 'ya', 'kritik', 'kangen...</td>\n",
              "      <td>President of Critique Ya Critique Kangen Criti...</td>\n",
              "      <td>positive</td>\n",
              "      <td>0.000000</td>\n",
              "      <td>neutral</td>\n",
              "      <td>{'neg': 0.0, 'neu': 0.619, 'pos': 0.381, 'comp...</td>\n",
              "    </tr>\n",
              "  </tbody>\n",
              "</table>\n",
              "<p>100 rows × 10 columns</p>\n",
              "</div>"
            ],
            "text/plain": [
              "                                              content  ...                                             scores\n",
              "0   @DivaJaritaKiran @BEMUI_Official @Leon_Alvinda...  ...  {'neg': 0.417, 'neu': 0.583, 'pos': 0.0, 'comp...\n",
              "1   @deditelaumbanu4 @bemui @Leon_Alvinda Mana yg ...  ...  {'neg': 0.116, 'neu': 0.884, 'pos': 0.0, 'comp...\n",
              "2   ___ 😛😛😛.....\\n\\nTonton \"Ade Armando Tanggapi K...  ...  {'neg': 0.209, 'neu': 0.791, 'pos': 0.0, 'comp...\n",
              "3   @tempodotco Tunggu ntar sbulan lg..apa yg akan...  ...  {'neg': 0.167, 'neu': 0.833, 'pos': 0.0, 'comp...\n",
              "4   Presiden @Jokowi menanggapi kritik Badan Eksek...  ...  {'neg': 0.172, 'neu': 0.828, 'pos': 0.0, 'comp...\n",
              "..                                                ...  ...                                                ...\n",
              "95  cc @BEMUI_Official @Leon_Alvinda 😁 https://t.c...  ...  {'neg': 0.0, 'neu': 1.0, 'pos': 0.0, 'compound...\n",
              "96  Daya kritis @BEMUI_Official dan @YLBHI kok tid...  ...  {'neg': 0.397, 'neu': 0.603, 'pos': 0.0, 'comp...\n",
              "97  @Rizmaya__ Ini modal BEM ui 2021 untuk jadi ka...  ...  {'neg': 0.0, 'neu': 0.656, 'pos': 0.344, 'comp...\n",
              "98  @UmarChelsea75 @jokowi @BEMUI_Official Ngomong...  ...  {'neg': 0.0, 'neu': 1.0, 'pos': 0.0, 'compound...\n",
              "99  @3Cahyono_ @icakdidinding @BEMUI_Official @and...  ...  {'neg': 0.0, 'neu': 0.619, 'pos': 0.381, 'comp...\n",
              "\n",
              "[100 rows x 10 columns]"
            ]
          },
          "metadata": {
            "tags": []
          },
          "execution_count": 211
        }
      ]
    },
    {
      "cell_type": "code",
      "metadata": {
        "id": "fvjmLoh6x7Qo"
      },
      "source": [
        "df['compound'] = df['scores'].apply(lambda score_dict: score_dict['compound']) #memanggil compound yang ada pada kolom scores\n",
        "df['sentimen_vader']='' #membuat kolom baru\n",
        "df.loc[df.compound>0,'sentimen_vader']='positive'\n",
        "df.loc[df.compound==0,'sentimen_vader']='neutral'\n",
        "df.loc[df.compound<0,'sentimen_vader']='negative'"
      ],
      "execution_count": null,
      "outputs": []
    },
    {
      "cell_type": "code",
      "metadata": {
        "colab": {
          "base_uri": "https://localhost:8080/",
          "height": 1000
        },
        "id": "DKXlN78lx8_P",
        "outputId": "0d232796-9b31-4758-9fd0-9e33cb5b087d"
      },
      "source": [
        "df"
      ],
      "execution_count": null,
      "outputs": [
        {
          "output_type": "execute_result",
          "data": {
            "text/html": [
              "<div>\n",
              "<style scoped>\n",
              "    .dataframe tbody tr th:only-of-type {\n",
              "        vertical-align: middle;\n",
              "    }\n",
              "\n",
              "    .dataframe tbody tr th {\n",
              "        vertical-align: top;\n",
              "    }\n",
              "\n",
              "    .dataframe thead th {\n",
              "        text-align: right;\n",
              "    }\n",
              "</style>\n",
              "<table border=\"1\" class=\"dataframe\">\n",
              "  <thead>\n",
              "    <tr style=\"text-align: right;\">\n",
              "      <th></th>\n",
              "      <th>content</th>\n",
              "      <th>clean1</th>\n",
              "      <th>clean2</th>\n",
              "      <th>clean3</th>\n",
              "      <th>tokens</th>\n",
              "      <th>clean_english</th>\n",
              "      <th>label</th>\n",
              "      <th>polarity</th>\n",
              "      <th>sentimen_textblob</th>\n",
              "      <th>scores</th>\n",
              "      <th>compound</th>\n",
              "      <th>sentimen_vader</th>\n",
              "    </tr>\n",
              "  </thead>\n",
              "  <tbody>\n",
              "    <tr>\n",
              "      <th>0</th>\n",
              "      <td>@DivaJaritaKiran @BEMUI_Official @Leon_Alvinda...</td>\n",
              "      <td>ketika orang yang berbeda pendapat sama lo ...</td>\n",
              "      <td>orang berbeda pendapat lo lo lo namanya dungu ...</td>\n",
              "      <td>orang beda dapat lo lo lo nama dungu oon tolol</td>\n",
              "      <td>['orang', 'beda', 'dapat', 'lo', 'lo', 'lo', '...</td>\n",
              "      <td>Different people can you miss the stupid ocean...</td>\n",
              "      <td>negative</td>\n",
              "      <td>-0.400000</td>\n",
              "      <td>negative</td>\n",
              "      <td>{'neg': 0.417, 'neu': 0.583, 'pos': 0.0, 'comp...</td>\n",
              "      <td>-0.6124</td>\n",
              "      <td>negative</td>\n",
              "    </tr>\n",
              "    <tr>\n",
              "      <th>1</th>\n",
              "      <td>@deditelaumbanu4 @bemui @Leon_Alvinda Mana yg ...</td>\n",
              "      <td>mana yg katanya cumlaudeapa yg telah kau bu...</td>\n",
              "      <td>yg cumlaudeapa yg kau utk bangsa inibikin anak...</td>\n",
              "      <td>yg cumlaudeapa yg kau utk bangsa inibikin anak...</td>\n",
              "      <td>['yg', 'cumlaudeapa', 'yg', 'kau', 'utk', 'ban...</td>\n",
              "      <td>Who cumlaude what you are for this nation make...</td>\n",
              "      <td>negative</td>\n",
              "      <td>0.000000</td>\n",
              "      <td>neutral</td>\n",
              "      <td>{'neg': 0.116, 'neu': 0.884, 'pos': 0.0, 'comp...</td>\n",
              "      <td>-0.3612</td>\n",
              "      <td>negative</td>\n",
              "    </tr>\n",
              "    <tr>\n",
              "      <th>2</th>\n",
              "      <td>___ 😛😛😛.....\\n\\nTonton \"Ade Armando Tanggapi K...</td>\n",
              "      <td>😛😛😛tonton ade armando tanggapi kritikan bem u...</td>\n",
              "      <td>😛😛😛tonton ade armando tanggapi kritikan bem ui...</td>\n",
              "      <td>tonton ade armando tanggap kritik bem ui presi...</td>\n",
              "      <td>['tonton', 'ade', 'armando', 'tanggap', 'kriti...</td>\n",
              "      <td>Watch Ade Armando Response Criticism of BEM UI...</td>\n",
              "      <td>negative</td>\n",
              "      <td>-0.333333</td>\n",
              "      <td>negative</td>\n",
              "      <td>{'neg': 0.209, 'neu': 0.791, 'pos': 0.0, 'comp...</td>\n",
              "      <td>-0.4404</td>\n",
              "      <td>negative</td>\n",
              "    </tr>\n",
              "    <tr>\n",
              "      <th>3</th>\n",
              "      <td>@tempodotco Tunggu ntar sbulan lg..apa yg akan...</td>\n",
              "      <td>tunggu ntar sbulan lgapa yg akan trjadi sama ...</td>\n",
              "      <td>tunggu ntar sbulan lgapa yg trjadi bem uistlh ...</td>\n",
              "      <td>tunggu ntar sbulan lgapa yg trjadi bem uistlh ...</td>\n",
              "      <td>['tunggu', 'ntar', 'sbulan', 'lgapa', 'yg', 't...</td>\n",
              "      <td>wait for the one who trjadi bem uistlh b no bn...</td>\n",
              "      <td>negative</td>\n",
              "      <td>0.000000</td>\n",
              "      <td>neutral</td>\n",
              "      <td>{'neg': 0.167, 'neu': 0.833, 'pos': 0.0, 'comp...</td>\n",
              "      <td>-0.2960</td>\n",
              "      <td>negative</td>\n",
              "    </tr>\n",
              "    <tr>\n",
              "      <th>4</th>\n",
              "      <td>Presiden @Jokowi menanggapi kritik Badan Eksek...</td>\n",
              "      <td>presiden  menanggapi kritik badan eksekutif ma...</td>\n",
              "      <td>presiden menanggapi kritik badan eksekutif mah...</td>\n",
              "      <td>presiden tanggap kritik badan eksekutif mahasi...</td>\n",
              "      <td>['presiden', 'tanggap', 'kritik', 'badan', 'ek...</td>\n",
              "      <td>President Regendent for Criticism of the Unive...</td>\n",
              "      <td>negative</td>\n",
              "      <td>0.000000</td>\n",
              "      <td>neutral</td>\n",
              "      <td>{'neg': 0.172, 'neu': 0.828, 'pos': 0.0, 'comp...</td>\n",
              "      <td>-0.7003</td>\n",
              "      <td>negative</td>\n",
              "    </tr>\n",
              "    <tr>\n",
              "      <th>...</th>\n",
              "      <td>...</td>\n",
              "      <td>...</td>\n",
              "      <td>...</td>\n",
              "      <td>...</td>\n",
              "      <td>...</td>\n",
              "      <td>...</td>\n",
              "      <td>...</td>\n",
              "      <td>...</td>\n",
              "      <td>...</td>\n",
              "      <td>...</td>\n",
              "      <td>...</td>\n",
              "      <td>...</td>\n",
              "    </tr>\n",
              "    <tr>\n",
              "      <th>95</th>\n",
              "      <td>cc @BEMUI_Official @Leon_Alvinda 😁 https://t.c...</td>\n",
              "      <td>cc   😁</td>\n",
              "      <td>cc 😁</td>\n",
              "      <td>cc</td>\n",
              "      <td>['cc']</td>\n",
              "      <td>cc</td>\n",
              "      <td>positive</td>\n",
              "      <td>0.000000</td>\n",
              "      <td>neutral</td>\n",
              "      <td>{'neg': 0.0, 'neu': 1.0, 'pos': 0.0, 'compound...</td>\n",
              "      <td>0.0000</td>\n",
              "      <td>neutral</td>\n",
              "    </tr>\n",
              "    <tr>\n",
              "      <th>96</th>\n",
              "      <td>Daya kritis @BEMUI_Official dan @YLBHI kok tid...</td>\n",
              "      <td>daya kritis  dan  kok tidak kelihatan di depan...</td>\n",
              "      <td>daya kritis aniesbaswedan terbeli kah daya kri...</td>\n",
              "      <td>daya kritis aniesbaswedan beli kah daya kritis...</td>\n",
              "      <td>['daya', 'kritis', 'aniesbaswedan', 'beli', 'k...</td>\n",
              "      <td>Critical Power Anies Baswedan Buy Kah Critical...</td>\n",
              "      <td>positive</td>\n",
              "      <td>0.000000</td>\n",
              "      <td>neutral</td>\n",
              "      <td>{'neg': 0.397, 'neu': 0.603, 'pos': 0.0, 'comp...</td>\n",
              "      <td>-0.5574</td>\n",
              "      <td>negative</td>\n",
              "    </tr>\n",
              "    <tr>\n",
              "      <th>97</th>\n",
              "      <td>@Rizmaya__ Ini modal BEM ui 2021 untuk jadi ka...</td>\n",
              "      <td>ini modal bem ui  untuk jadi kader pks</td>\n",
              "      <td>modal bem ui kader pks</td>\n",
              "      <td>modal bem ui kader pks</td>\n",
              "      <td>['modal', 'bem', 'ui', 'kader', 'pks']</td>\n",
              "      <td>modal well ui kader pks</td>\n",
              "      <td>positive</td>\n",
              "      <td>0.000000</td>\n",
              "      <td>neutral</td>\n",
              "      <td>{'neg': 0.0, 'neu': 0.656, 'pos': 0.344, 'comp...</td>\n",
              "      <td>0.2732</td>\n",
              "      <td>positive</td>\n",
              "    </tr>\n",
              "    <tr>\n",
              "      <th>98</th>\n",
              "      <td>@UmarChelsea75 @jokowi @BEMUI_Official Ngomong...</td>\n",
              "      <td>ngomong bukan dari hati dan otaknya  teksny...</td>\n",
              "      <td>ngomong hati otaknya teksnya</td>\n",
              "      <td>ngomong hati otak teks</td>\n",
              "      <td>['ngomong', 'hati', 'otak', 'teks']</td>\n",
              "      <td>talking to the text of the text</td>\n",
              "      <td>positive</td>\n",
              "      <td>0.000000</td>\n",
              "      <td>neutral</td>\n",
              "      <td>{'neg': 0.0, 'neu': 1.0, 'pos': 0.0, 'compound...</td>\n",
              "      <td>0.0000</td>\n",
              "      <td>neutral</td>\n",
              "    </tr>\n",
              "    <tr>\n",
              "      <th>99</th>\n",
              "      <td>@3Cahyono_ @icakdidinding @BEMUI_Official @and...</td>\n",
              "      <td>karena pak presiden minta dikritik ya dikr...</td>\n",
              "      <td>presiden dikritik ya dikritik kangen dikritik ...</td>\n",
              "      <td>presiden kritik ya kritik kangen kritik kangen...</td>\n",
              "      <td>['presiden', 'kritik', 'ya', 'kritik', 'kangen...</td>\n",
              "      <td>President of Critique Ya Critique Kangen Criti...</td>\n",
              "      <td>positive</td>\n",
              "      <td>0.000000</td>\n",
              "      <td>neutral</td>\n",
              "      <td>{'neg': 0.0, 'neu': 0.619, 'pos': 0.381, 'comp...</td>\n",
              "      <td>0.8779</td>\n",
              "      <td>positive</td>\n",
              "    </tr>\n",
              "  </tbody>\n",
              "</table>\n",
              "<p>100 rows × 12 columns</p>\n",
              "</div>"
            ],
            "text/plain": [
              "                                              content  ... sentimen_vader\n",
              "0   @DivaJaritaKiran @BEMUI_Official @Leon_Alvinda...  ...       negative\n",
              "1   @deditelaumbanu4 @bemui @Leon_Alvinda Mana yg ...  ...       negative\n",
              "2   ___ 😛😛😛.....\\n\\nTonton \"Ade Armando Tanggapi K...  ...       negative\n",
              "3   @tempodotco Tunggu ntar sbulan lg..apa yg akan...  ...       negative\n",
              "4   Presiden @Jokowi menanggapi kritik Badan Eksek...  ...       negative\n",
              "..                                                ...  ...            ...\n",
              "95  cc @BEMUI_Official @Leon_Alvinda 😁 https://t.c...  ...        neutral\n",
              "96  Daya kritis @BEMUI_Official dan @YLBHI kok tid...  ...       negative\n",
              "97  @Rizmaya__ Ini modal BEM ui 2021 untuk jadi ka...  ...       positive\n",
              "98  @UmarChelsea75 @jokowi @BEMUI_Official Ngomong...  ...        neutral\n",
              "99  @3Cahyono_ @icakdidinding @BEMUI_Official @and...  ...       positive\n",
              "\n",
              "[100 rows x 12 columns]"
            ]
          },
          "metadata": {
            "tags": []
          },
          "execution_count": 213
        }
      ]
    },
    {
      "cell_type": "code",
      "metadata": {
        "colab": {
          "base_uri": "https://localhost:8080/"
        },
        "id": "mbFLFa0Sx993",
        "outputId": "e5441bf3-d7df-44c9-af10-f36b053a40d8"
      },
      "source": [
        "df['sentimen_vader'].value_counts() #menghitung jumlah nilai sentimen vader"
      ],
      "execution_count": null,
      "outputs": [
        {
          "output_type": "execute_result",
          "data": {
            "text/plain": [
              "neutral     37\n",
              "positive    33\n",
              "negative    30\n",
              "Name: sentimen_vader, dtype: int64"
            ]
          },
          "metadata": {
            "tags": []
          },
          "execution_count": 214
        }
      ]
    },
    {
      "cell_type": "code",
      "metadata": {
        "colab": {
          "base_uri": "https://localhost:8080/"
        },
        "id": "Bg40R1CXx_iY",
        "outputId": "e882693e-b530-4ada-e90f-496f479e572c"
      },
      "source": [
        "df['sentimen_textblob'].value_counts()"
      ],
      "execution_count": null,
      "outputs": [
        {
          "output_type": "execute_result",
          "data": {
            "text/plain": [
              "neutral     60\n",
              "positive    27\n",
              "negative    13\n",
              "Name: sentimen_textblob, dtype: int64"
            ]
          },
          "metadata": {
            "tags": []
          },
          "execution_count": 215
        }
      ]
    },
    {
      "cell_type": "code",
      "metadata": {
        "colab": {
          "base_uri": "https://localhost:8080/"
        },
        "id": "2SZy2WJmyESP",
        "outputId": "ab11d18a-0bcc-4b33-f418-240dd2d0672a"
      },
      "source": [
        "df['label'].value_counts()"
      ],
      "execution_count": null,
      "outputs": [
        {
          "output_type": "execute_result",
          "data": {
            "text/plain": [
              "positive    41\n",
              "neutral     37\n",
              "negative    22\n",
              "Name: label, dtype: int64"
            ]
          },
          "metadata": {
            "tags": []
          },
          "execution_count": 216
        }
      ]
    },
    {
      "cell_type": "code",
      "metadata": {
        "colab": {
          "base_uri": "https://localhost:8080/",
          "height": 332
        },
        "id": "1AhuLn-VyJP-",
        "outputId": "04a6d38f-3316-4070-b622-6a0f1c5e2ad1"
      },
      "source": [
        "df.sentimen_vader.value_counts().plot(kind='bar',title=\"Sentiment Analysis with Vader\")"
      ],
      "execution_count": null,
      "outputs": [
        {
          "output_type": "execute_result",
          "data": {
            "text/plain": [
              "<matplotlib.axes._subplots.AxesSubplot at 0x7f3e522d4850>"
            ]
          },
          "metadata": {
            "tags": []
          },
          "execution_count": 217
        },
        {
          "output_type": "display_data",
          "data": {
            "image/png": "[encoded data removed]",
            "text/plain": [
              "<Figure size 432x288 with 1 Axes>"
            ]
          },
          "metadata": {
            "tags": [],
            "needs_background": "light"
          }
        }
      ]
    },
    {
      "cell_type": "code",
      "metadata": {
        "colab": {
          "base_uri": "https://localhost:8080/",
          "height": 281
        },
        "id": "UjgirGUfyRoY",
        "outputId": "25673318-2096-416b-d186-e49cc9604e3e"
      },
      "source": [
        "df.sentimen_vader.value_counts().plot(kind='pie',title=\"Sentiment Analysis with Vader\")"
      ],
      "execution_count": null,
      "outputs": [
        {
          "output_type": "execute_result",
          "data": {
            "text/plain": [
              "<matplotlib.axes._subplots.AxesSubplot at 0x7f3e52258850>"
            ]
          },
          "metadata": {
            "tags": []
          },
          "execution_count": 218
        },
        {
          "output_type": "display_data",
          "data": {
            "image/png": "[encoded data removed]",
            "text/plain": [
              "<Figure size 432x288 with 1 Axes>"
            ]
          },
          "metadata": {
            "tags": []
          }
        }
      ]
    },
    {
      "cell_type": "code",
      "metadata": {
        "id": "hAJ5DW9NyUJD"
      },
      "source": [
        "df.to_csv('/content/drive/MyDrive/Colab Notebooks/sentimen_vaderbemui.csv', index=None)"
      ],
      "execution_count": null,
      "outputs": []
    },
    {
      "cell_type": "markdown",
      "metadata": {
        "id": "7U93hve7ykRu"
      },
      "source": [
        "# Menghitung Accuracy dengan sckit library learn / sk learn"
      ]
    },
    {
      "cell_type": "markdown",
      "metadata": {
        "id": "PNu9VG0ryjuz"
      },
      "source": [
        "##Acuraccy textblob"
      ]
    },
    {
      "cell_type": "code",
      "metadata": {
        "id": "omp0SELVyZjw"
      },
      "source": [
        "from sklearn.metrics import accuracy_score,classification_report,confusion_matrix #bentuk akurasi akan berupa matriks, dengan mengimport"
      ],
      "execution_count": null,
      "outputs": []
    },
    {
      "cell_type": "code",
      "metadata": {
        "colab": {
          "base_uri": "https://localhost:8080/"
        },
        "id": "BxghBXMf0CSZ",
        "outputId": "db661bb1-f283-4e61-ad20-14b879229afa"
      },
      "source": [
        "accuracy_score(df['label'],df['sentimen_textblob']) #43% #menampilkan fungsi accuracy_score yang sudah diimport sebelumnya"
      ],
      "execution_count": null,
      "outputs": [
        {
          "output_type": "execute_result",
          "data": {
            "text/plain": [
              "0.43"
            ]
          },
          "metadata": {
            "tags": []
          },
          "execution_count": 221
        }
      ]
    },
    {
      "cell_type": "code",
      "metadata": {
        "colab": {
          "base_uri": "https://localhost:8080/"
        },
        "id": "P5Lf84Lr0EyK",
        "outputId": "e768a087-48f8-4fcb-f5f5-8a4bde967244"
      },
      "source": [
        "print(classification_report(df['label'],df['sentimen_textblob'])) #menampilkan fungsiclassifikasi reporte yang sudah diimport sebelumnya\n",
        "#presisi adalah jumlah yang diakulasi sebagai data yg benar, recall dari data yg dilabelin berapa yg negative benar\n",
        "#f1-score rata2, support"
      ],
      "execution_count": null,
      "outputs": [
        {
          "output_type": "stream",
          "text": [
            "              precision    recall  f1-score   support\n",
            "\n",
            "    negative       0.38      0.23      0.29        22\n",
            "     neutral       0.43      0.70      0.54        37\n",
            "    positive       0.44      0.29      0.35        41\n",
            "\n",
            "    accuracy                           0.43       100\n",
            "   macro avg       0.42      0.41      0.39       100\n",
            "weighted avg       0.43      0.43      0.41       100\n",
            "\n"
          ],
          "name": "stdout"
        }
      ]
    },
    {
      "cell_type": "code",
      "metadata": {
        "colab": {
          "base_uri": "https://localhost:8080/"
        },
        "id": "DSD6Nk290GEH",
        "outputId": "b6b7b2bb-7b42-4bf9-9e97-00b601f598bd"
      },
      "source": [
        "#Confusion Matrix Testing, #menampilkan fungsi confusion_matrix yang sudah diimport sebelumnya, dengan var cm_pred cunclusion matrix predction\n",
        "cm_pred = confusion_matrix(df['label'],df['sentimen_textblob'])\n",
        "print(cm_pred)\n",
        "#True + dan True -, matriks ukuran nya 3x3"
      ],
      "execution_count": null,
      "outputs": [
        {
          "output_type": "stream",
          "text": [
            "[[ 5 10  7]\n",
            " [ 3 26  8]\n",
            " [ 5 24 12]]\n"
          ],
          "name": "stdout"
        }
      ]
    },
    {
      "cell_type": "code",
      "metadata": {
        "colab": {
          "base_uri": "https://localhost:8080/"
        },
        "id": "kOtpp4R90IZ9",
        "outputId": "118c1328-e48c-4bd8-87f9-9ff321b7a0d4"
      },
      "source": [
        "df['sentimen_textblob'].value_counts()"
      ],
      "execution_count": null,
      "outputs": [
        {
          "output_type": "execute_result",
          "data": {
            "text/plain": [
              "neutral     60\n",
              "positive    27\n",
              "negative    13\n",
              "Name: sentimen_textblob, dtype: int64"
            ]
          },
          "metadata": {
            "tags": []
          },
          "execution_count": 224
        }
      ]
    },
    {
      "cell_type": "code",
      "metadata": {
        "colab": {
          "base_uri": "https://localhost:8080/",
          "height": 428
        },
        "id": "CBU1k9EA0Kun",
        "outputId": "ec4c3876-0ea5-40f0-b8a0-769e37a62d45"
      },
      "source": [
        "import seaborn as sn\n",
        "import matplotlib.pyplot as plt\n",
        "\n",
        "df_cm_pred = pd.DataFrame(cm_pred, index = [i for i in [\"Negative\", \"Neutral\", \"Positive\"]],\n",
        "                          columns = [i for i in [\"Negative\", \"Neutral\", \"Positive\"]])\n",
        "\n",
        "plt.figure(figsize = (10,7))\n",
        "sn.heatmap(df_cm_pred, annot=True, cbar=False, fmt=\"d\")\n",
        "plt.savefig('/content/drive/MyDrive/Colab Notebooks/confusion_matrix_textblob_bemui.jpg') #hasil textblob\n",
        "#masih error"
      ],
      "execution_count": null,
      "outputs": [
        {
          "output_type": "display_data",
          "data": {
            "image/png": "[encoded data removed]",
            "text/plain": [
              "<Figure size 720x504 with 1 Axes>"
            ]
          },
          "metadata": {
            "tags": [],
            "needs_background": "light"
          }
        }
      ]
    },
    {
      "cell_type": "markdown",
      "metadata": {
        "id": "AFfhnex42DPf"
      },
      "source": [
        "##Accuracy Vader"
      ]
    },
    {
      "cell_type": "code",
      "metadata": {
        "colab": {
          "base_uri": "https://localhost:8080/"
        },
        "id": "7DnNGuwv0O1e",
        "outputId": "a9dd67b6-b423-43d1-eacc-6bd64de506b1"
      },
      "source": [
        "accuracy_score(df['label'],df['sentimen_vader']) #41%, vader lebih bagus daripada textblob dalam bentuk ketepatan"
      ],
      "execution_count": null,
      "outputs": [
        {
          "output_type": "execute_result",
          "data": {
            "text/plain": [
              "0.41"
            ]
          },
          "metadata": {
            "tags": []
          },
          "execution_count": 226
        }
      ]
    },
    {
      "cell_type": "code",
      "metadata": {
        "colab": {
          "base_uri": "https://localhost:8080/"
        },
        "id": "Vp_QQHfF2J98",
        "outputId": "ece8fedf-6e4e-4655-d910-716a45fb233d"
      },
      "source": [
        "print(classification_report(df['label'],df['sentimen_vader']))"
      ],
      "execution_count": null,
      "outputs": [
        {
          "output_type": "stream",
          "text": [
            "              precision    recall  f1-score   support\n",
            "\n",
            "    negative       0.30      0.41      0.35        22\n",
            "     neutral       0.49      0.49      0.49        37\n",
            "    positive       0.42      0.34      0.38        41\n",
            "\n",
            "    accuracy                           0.41       100\n",
            "   macro avg       0.40      0.41      0.40       100\n",
            "weighted avg       0.42      0.41      0.41       100\n",
            "\n"
          ],
          "name": "stdout"
        }
      ]
    },
    {
      "cell_type": "code",
      "metadata": {
        "colab": {
          "base_uri": "https://localhost:8080/"
        },
        "id": "wMQcg5BP2KY9",
        "outputId": "e1c79a73-5f17-4536-cabd-c86303d6fec6"
      },
      "source": [
        "#Confusion Matrix Testing\n",
        "cm_pred = confusion_matrix(df['label'],df['sentimen_vader'])\n",
        "print(cm_pred)"
      ],
      "execution_count": null,
      "outputs": [
        {
          "output_type": "stream",
          "text": [
            "[[ 9  4  9]\n",
            " [ 9 18 10]\n",
            " [12 15 14]]\n"
          ],
          "name": "stdout"
        }
      ]
    },
    {
      "cell_type": "code",
      "metadata": {
        "colab": {
          "base_uri": "https://localhost:8080/",
          "height": 428
        },
        "id": "xK80LsdV2MED",
        "outputId": "3778bb68-e317-4144-91d6-c2a15342343c"
      },
      "source": [
        "import seaborn as sn\n",
        "import matplotlib.pyplot as plt\n",
        "\n",
        "df_cm_pred = pd.DataFrame(cm_pred, index = [i for i in [\"Negative\", \"Neutral\", \"Positive\"]],\n",
        "                          columns = [i for i in [\"Negative\", \"Neutral\", \"Positive\"]])\n",
        "\n",
        "plt.figure(figsize = (10,7))\n",
        "sn.heatmap(df_cm_pred, annot=True, cbar=False, fmt=\"d\")\n",
        "plt.savefig('/content/drive/MyDrive/Colab Notebooks/confusion_matrix_vader.jpg')\n",
        "# error"
      ],
      "execution_count": null,
      "outputs": [
        {
          "output_type": "display_data",
          "data": {
            "image/png": "[encoded data removed]",
            "text/plain": [
              "<Figure size 720x504 with 1 Axes>"
            ]
          },
          "metadata": {
            "tags": [],
            "needs_background": "light"
          }
        }
      ]
    },
    {
      "cell_type": "code",
      "metadata": {
        "id": "6GHJ8YTd2Nll"
      },
      "source": [
        "df.to_csv('/content/drive/MyDrive/Colab Notebooks/hasilcoba.csv', index=None) #hasil sentimen vader, untuk menghilangkan unammed kolom yg otomatis terbuat"
      ],
      "execution_count": null,
      "outputs": []
    }
  ]
}